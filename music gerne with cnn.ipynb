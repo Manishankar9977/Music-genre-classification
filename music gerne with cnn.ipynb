{
 "cells": [
  {
   "cell_type": "code",
   "execution_count": 1,
   "metadata": {
    "scrolled": true
   },
   "outputs": [
    {
     "name": "stdout",
     "output_type": "stream",
     "text": [
      "Requirement already satisfied: librosa in c:\\users\\ril\\anaconda3\\lib\\site-packages (0.9.2)\n",
      "Requirement already satisfied: packaging>=20.0 in c:\\users\\ril\\anaconda3\\lib\\site-packages (from librosa) (21.3)\n",
      "Requirement already satisfied: soundfile>=0.10.2 in c:\\users\\ril\\anaconda3\\lib\\site-packages (from librosa) (0.11.0)\n",
      "Requirement already satisfied: scipy>=1.2.0 in c:\\users\\ril\\anaconda3\\lib\\site-packages (from librosa) (1.5.2)\n",
      "Requirement already satisfied: audioread>=2.1.9 in c:\\users\\ril\\anaconda3\\lib\\site-packages (from librosa) (3.0.0)\n",
      "Requirement already satisfied: resampy>=0.2.2 in c:\\users\\ril\\anaconda3\\lib\\site-packages (from librosa) (0.3.1)\n",
      "Requirement already satisfied: decorator>=4.0.10 in c:\\users\\ril\\anaconda3\\lib\\site-packages (from librosa) (4.4.2)\n",
      "Requirement already satisfied: scikit-learn>=0.19.1 in c:\\users\\ril\\anaconda3\\lib\\site-packages (from librosa) (0.23.2)\n",
      "Requirement already satisfied: numba>=0.45.1 in c:\\users\\ril\\anaconda3\\lib\\site-packages (from librosa) (0.51.2)\n",
      "Requirement already satisfied: numpy>=1.17.0 in c:\\users\\ril\\anaconda3\\lib\\site-packages (from librosa) (1.23.3)\n",
      "Requirement already satisfied: joblib>=0.14 in c:\\users\\ril\\anaconda3\\lib\\site-packages (from librosa) (0.17.0)\n",
      "Requirement already satisfied: pooch>=1.0 in c:\\users\\ril\\anaconda3\\lib\\site-packages (from librosa) (1.6.0)\n",
      "Requirement already satisfied: llvmlite<0.35,>=0.34.0.dev0 in c:\\users\\ril\\anaconda3\\lib\\site-packages (from numba>=0.45.1->librosa) (0.34.0)\n",
      "Requirement already satisfied: setuptools in c:\\users\\ril\\anaconda3\\lib\\site-packages (from numba>=0.45.1->librosa) (50.3.1.post20201107)\n",
      "Requirement already satisfied: pyparsing!=3.0.5,>=2.0.2 in c:\\users\\ril\\anaconda3\\lib\\site-packages (from packaging>=20.0->librosa) (2.4.7)\n",
      "Requirement already satisfied: appdirs>=1.3.0 in c:\\users\\ril\\anaconda3\\lib\\site-packages (from pooch>=1.0->librosa) (1.4.4)\n",
      "Requirement already satisfied: requests>=2.19.0 in c:\\users\\ril\\anaconda3\\lib\\site-packages (from pooch>=1.0->librosa) (2.24.0)\n",
      "Requirement already satisfied: threadpoolctl>=2.0.0 in c:\\users\\ril\\anaconda3\\lib\\site-packages (from scikit-learn>=0.19.1->librosa) (2.1.0)\n"
     ]
    },
    {
     "name": "stderr",
     "output_type": "stream",
     "text": [
      "WARNING: Ignoring invalid distribution -rotobuf (c:\\users\\ril\\anaconda3\\lib\\site-packages)\n",
      "WARNING: Ignoring invalid distribution -rotobuf (c:\\users\\ril\\anaconda3\\lib\\site-packages)\n",
      "WARNING: Ignoring invalid distribution -rotobuf (c:\\users\\ril\\anaconda3\\lib\\site-packages)\n",
      "WARNING: Ignoring invalid distribution -rotobuf (c:\\users\\ril\\anaconda3\\lib\\site-packages)\n",
      "WARNING: Ignoring invalid distribution -rotobuf (c:\\users\\ril\\anaconda3\\lib\\site-packages)\n",
      "WARNING: Ignoring invalid distribution -rotobuf (c:\\users\\ril\\anaconda3\\lib\\site-packages)\n"
     ]
    },
    {
     "name": "stdout",
     "output_type": "stream",
     "text": [
      "Requirement already satisfied: cffi>=1.0 in c:\\users\\ril\\anaconda3\\lib\\site-packages (from soundfile>=0.10.2->librosa) (1.14.3)\n",
      "Requirement already satisfied: pycparser in c:\\users\\ril\\anaconda3\\lib\\site-packages (from cffi>=1.0->soundfile>=0.10.2->librosa) (2.20)\n",
      "Requirement already satisfied: idna<3,>=2.5 in c:\\users\\ril\\anaconda3\\lib\\site-packages (from requests>=2.19.0->pooch>=1.0->librosa) (2.10)\n",
      "Requirement already satisfied: certifi>=2017.4.17 in c:\\users\\ril\\anaconda3\\lib\\site-packages (from requests>=2.19.0->pooch>=1.0->librosa) (2020.6.20)\n",
      "Requirement already satisfied: chardet<4,>=3.0.2 in c:\\users\\ril\\anaconda3\\lib\\site-packages (from requests>=2.19.0->pooch>=1.0->librosa) (3.0.4)\n",
      "Requirement already satisfied: urllib3!=1.25.0,!=1.25.1,<1.26,>=1.21.1 in c:\\users\\ril\\anaconda3\\lib\\site-packages (from requests>=2.19.0->pooch>=1.0->librosa) (1.25.11)\n"
     ]
    }
   ],
   "source": [
    "!pip install librosa"
   ]
  },
  {
   "cell_type": "code",
   "execution_count": 2,
   "metadata": {},
   "outputs": [],
   "source": [
    "import warnings\n",
    "warnings.filterwarnings('ignore')\n",
    "import pandas as pd\n",
    "import numpy as np\n",
    "import librosa\n",
    "import matplotlib.pyplot as plt\n",
    "\n",
    "import os\n",
    "from PIL import Image\n",
    "from pathlib import Path\n",
    "import csv\n",
    "\n",
    "from sklearn.model_selection import train_test_split\n",
    "from sklearn.preprocessing import LabelEncoder, StandardScaler\n",
    "\n",
    "from sklearn.linear_model import LinearRegression\n",
    "from sklearn.svm import SVC\n",
    "from sklearn.ensemble import RandomForestClassifier\n",
    "\n",
    "import tensorflow\n",
    "import librosa.display"
   ]
  },
  {
   "cell_type": "code",
   "execution_count": 82,
   "metadata": {},
   "outputs": [],
   "source": [
    "\n",
    "    ### Let's read a sample audio using librosa\n",
    "import librosa\n",
    "audio_file_path=\"C:\\\\Users\\\\ril\\\\Downloads\\\\ch_005.wav\"\n",
    "librosa_audio_data,librosa_sample_rate=librosa.load(audio_file_path)"
   ]
  },
  {
   "cell_type": "code",
   "execution_count": 29,
   "metadata": {},
   "outputs": [],
   "source": [
    "import librosa\n",
    "audio_file_path1=\"D:\\\\shravanne-tasks\\\\new\\\\genres_original\\\\pop\\\\pop.00078.wav\"\n",
    "librosa_audio_data1,librosa_sample_rate1=librosa.load(audio_file_path)"
   ]
  },
  {
   "cell_type": "code",
   "execution_count": 14,
   "metadata": {},
   "outputs": [
    {
     "name": "stdout",
     "output_type": "stream",
     "text": [
      "[ 0.4713745   0.42648315  0.41140747 ...  0.03622437 -0.07781982\n",
      " -0.12097168]\n"
     ]
    }
   ],
   "source": [
    "print(librosa_audio_data)"
   ]
  },
  {
   "cell_type": "code",
   "execution_count": 83,
   "metadata": {},
   "outputs": [
    {
     "name": "stdout",
     "output_type": "stream",
     "text": [
      "(40, 127)\n"
     ]
    }
   ],
   "source": [
    "mfccs = librosa.feature.mfcc(y=librosa_audio_data, sr=librosa_sample_rate, n_mfcc=40)\n",
    "print(mfccs.shape)"
   ]
  },
  {
   "cell_type": "code",
   "execution_count": 30,
   "metadata": {},
   "outputs": [
    {
     "name": "stdout",
     "output_type": "stream",
     "text": [
      "(40, 1293)\n"
     ]
    }
   ],
   "source": [
    "mfccs1 = librosa.feature.mfcc(y=librosa_audio_data1, sr=librosa_sample_rate1, n_mfcc=40)\n",
    "print(mfccs1.shape)"
   ]
  },
  {
   "cell_type": "code",
   "execution_count": 18,
   "metadata": {},
   "outputs": [],
   "source": [
    "a=[]\n",
    "a.append(mfccs)"
   ]
  },
  {
   "cell_type": "code",
   "execution_count": 31,
   "metadata": {},
   "outputs": [],
   "source": [
    "a.append(mfccs1)"
   ]
  },
  {
   "cell_type": "code",
   "execution_count": 84,
   "metadata": {},
   "outputs": [
    {
     "data": {
      "text/plain": [
       "<matplotlib.collections.QuadMesh at 0x17a0d0195e0>"
      ]
     },
     "execution_count": 84,
     "metadata": {},
     "output_type": "execute_result"
    },
    {
     "data": {
      "image/png": "[encoded data removed]",
      "text/plain": [
       "<Figure size 432x288 with 1 Axes>"
      ]
     },
     "metadata": {
      "needs_background": "light"
     },
     "output_type": "display_data"
    }
   ],
   "source": [
    "librosa.display.specshow(mfccs, y_axis='linear')"
   ]
  },
  {
   "cell_type": "code",
   "execution_count": 32,
   "metadata": {},
   "outputs": [],
   "source": [
    "dict={'Mfcc':a}"
   ]
  },
  {
   "cell_type": "code",
   "execution_count": 33,
   "metadata": {},
   "outputs": [
    {
     "data": {
      "text/html": [
       "<div>\n",
       "<style scoped>\n",
       "    .dataframe tbody tr th:only-of-type {\n",
       "        vertical-align: middle;\n",
       "    }\n",
       "\n",
       "    .dataframe tbody tr th {\n",
       "        vertical-align: top;\n",
       "    }\n",
       "\n",
       "    .dataframe thead th {\n",
       "        text-align: right;\n",
       "    }\n",
       "</style>\n",
       "<table border=\"1\" class=\"dataframe\">\n",
       "  <thead>\n",
       "    <tr style=\"text-align: right;\">\n",
       "      <th></th>\n",
       "      <th>Mfcc</th>\n",
       "    </tr>\n",
       "  </thead>\n",
       "  <tbody>\n",
       "    <tr>\n",
       "      <th>0</th>\n",
       "      <td>[[-87.287094, -107.493546, -147.20073, -148.10...</td>\n",
       "    </tr>\n",
       "    <tr>\n",
       "      <th>1</th>\n",
       "      <td>[[-87.287094, -107.493546, -147.20073, -148.10...</td>\n",
       "    </tr>\n",
       "  </tbody>\n",
       "</table>\n",
       "</div>"
      ],
      "text/plain": [
       "                                                Mfcc\n",
       "0  [[-87.287094, -107.493546, -147.20073, -148.10...\n",
       "1  [[-87.287094, -107.493546, -147.20073, -148.10..."
      ]
     },
     "execution_count": 33,
     "metadata": {},
     "output_type": "execute_result"
    }
   ],
   "source": [
    "extracted_features_single= pd.DataFrame(dict)\n",
    "extracted_features_single.head()"
   ]
  },
  {
   "cell_type": "code",
   "execution_count": 34,
   "metadata": {},
   "outputs": [
    {
     "data": {
      "text/plain": [
       "(2, 40, 1293)"
      ]
     },
     "execution_count": 34,
     "metadata": {},
     "output_type": "execute_result"
    }
   ],
   "source": [
    "single_fea1=np.array(extracted_features_single['Mfcc'].tolist())\n",
    "single_fea1.shape"
   ]
  },
  {
   "cell_type": "code",
   "execution_count": 39,
   "metadata": {},
   "outputs": [],
   "source": [
    "import numpy as np\n",
    "dataset = []\n",
    "cla=[]\n",
    "genres = {'blues': 0, 'classical': 1, 'country': 2, 'disco': 3, 'hiphop': 4, \n",
    "        'jazz': 5, 'metal': 6, 'pop': 7, 'reggae': 8, 'rock': 9}\n",
    "\n",
    "for genre, genre_number in genres.items():\n",
    "    for filename in os.listdir(f'D:\\\\shravanne-tasks\\\\new\\\\genres_original\\\\{genre}'):\n",
    "        songname = f'D:\\\\shravanne-tasks\\\\new\\\\genres_original\\\\{genre}\\\\{filename}'\n",
    "        for index in range(14):\n",
    "            audio, sr = librosa.load(songname,res_type='kaiser_test')\n",
    "            mfcc_fea = np.mean(librosa.feature.mfcc(y=audio, sr=sr, n_mfcc=40).T,axis=0)\n",
    "            fea_class=genre\n",
    "            dataset.append(mfcc_fea)\n",
    "            cla.append(fea_class)"
   ]
  },
  {
   "cell_type": "code",
   "execution_count": 40,
   "metadata": {},
   "outputs": [],
   "source": [
    "d = {'Features':dataset,'class':cla}"
   ]
  },
  {
   "cell_type": "code",
   "execution_count": 41,
   "metadata": {},
   "outputs": [
    {
     "data": {
      "text/html": [
       "<div>\n",
       "<style scoped>\n",
       "    .dataframe tbody tr th:only-of-type {\n",
       "        vertical-align: middle;\n",
       "    }\n",
       "\n",
       "    .dataframe tbody tr th {\n",
       "        vertical-align: top;\n",
       "    }\n",
       "\n",
       "    .dataframe thead th {\n",
       "        text-align: right;\n",
       "    }\n",
       "</style>\n",
       "<table border=\"1\" class=\"dataframe\">\n",
       "  <thead>\n",
       "    <tr style=\"text-align: right;\">\n",
       "      <th></th>\n",
       "      <th>Features</th>\n",
       "      <th>class</th>\n",
       "    </tr>\n",
       "  </thead>\n",
       "  <tbody>\n",
       "    <tr>\n",
       "      <th>0</th>\n",
       "      <td>[-113.59882, 121.57067, -19.162262, 42.36394, ...</td>\n",
       "      <td>blues</td>\n",
       "    </tr>\n",
       "    <tr>\n",
       "      <th>1</th>\n",
       "      <td>[-113.59882, 121.57067, -19.162262, 42.36394, ...</td>\n",
       "      <td>blues</td>\n",
       "    </tr>\n",
       "    <tr>\n",
       "      <th>2</th>\n",
       "      <td>[-113.59882, 121.57067, -19.162262, 42.36394, ...</td>\n",
       "      <td>blues</td>\n",
       "    </tr>\n",
       "    <tr>\n",
       "      <th>3</th>\n",
       "      <td>[-113.59882, 121.57067, -19.162262, 42.36394, ...</td>\n",
       "      <td>blues</td>\n",
       "    </tr>\n",
       "    <tr>\n",
       "      <th>4</th>\n",
       "      <td>[-113.59882, 121.57067, -19.162262, 42.36394, ...</td>\n",
       "      <td>blues</td>\n",
       "    </tr>\n",
       "  </tbody>\n",
       "</table>\n",
       "</div>"
      ],
      "text/plain": [
       "                                            Features  class\n",
       "0  [-113.59882, 121.57067, -19.162262, 42.36394, ...  blues\n",
       "1  [-113.59882, 121.57067, -19.162262, 42.36394, ...  blues\n",
       "2  [-113.59882, 121.57067, -19.162262, 42.36394, ...  blues\n",
       "3  [-113.59882, 121.57067, -19.162262, 42.36394, ...  blues\n",
       "4  [-113.59882, 121.57067, -19.162262, 42.36394, ...  blues"
      ]
     },
     "execution_count": 41,
     "metadata": {},
     "output_type": "execute_result"
    }
   ],
   "source": [
    "import pandas as pd\n",
    "extracted_features_df=pd.DataFrame(d)\n",
    "extracted_features_df.head()"
   ]
  },
  {
   "cell_type": "code",
   "execution_count": 42,
   "metadata": {},
   "outputs": [
    {
     "data": {
      "text/plain": [
       "14000"
      ]
     },
     "execution_count": 42,
     "metadata": {},
     "output_type": "execute_result"
    }
   ],
   "source": [
    "len(dataset)"
   ]
  },
  {
   "cell_type": "code",
   "execution_count": 43,
   "metadata": {
    "scrolled": true
   },
   "outputs": [],
   "source": [
    "### Split the dataset into independent and dependent dataset\n",
    "X=np.array(dataset)\n",
    "#(extracted_features_df['Features'].tolist())\n",
    "y=np.array(extracted_features_df['class'].tolist())"
   ]
  },
  {
   "cell_type": "code",
   "execution_count": 44,
   "metadata": {},
   "outputs": [
    {
     "data": {
      "text/plain": [
       "(14000, 40)"
      ]
     },
     "execution_count": 44,
     "metadata": {},
     "output_type": "execute_result"
    }
   ],
   "source": [
    "X.shape"
   ]
  },
  {
   "cell_type": "code",
   "execution_count": 45,
   "metadata": {},
   "outputs": [
    {
     "data": {
      "text/plain": [
       "array(['blues', 'blues', 'blues', ..., 'rock', 'rock', 'rock'],\n",
       "      dtype='<U9')"
      ]
     },
     "execution_count": 45,
     "metadata": {},
     "output_type": "execute_result"
    }
   ],
   "source": [
    "y"
   ]
  },
  {
   "cell_type": "code",
   "execution_count": 46,
   "metadata": {},
   "outputs": [],
   "source": [
    "### Label Encoding\n",
    "###y=np.array(pd.get_dummies(y))\n",
    "### Label Encoder\n",
    "from tensorflow.keras.utils import to_categorical\n",
    "from sklearn.preprocessing import LabelEncoder\n",
    "labelencoder=LabelEncoder()\n",
    "y=to_categorical(labelencoder.fit_transform(y))"
   ]
  },
  {
   "cell_type": "code",
   "execution_count": 47,
   "metadata": {},
   "outputs": [
    {
     "data": {
      "text/plain": [
       "array([[1., 0., 0., ..., 0., 0., 0.],\n",
       "       [1., 0., 0., ..., 0., 0., 0.],\n",
       "       [1., 0., 0., ..., 0., 0., 0.],\n",
       "       ...,\n",
       "       [0., 0., 0., ..., 0., 0., 1.],\n",
       "       [0., 0., 0., ..., 0., 0., 1.],\n",
       "       [0., 0., 0., ..., 0., 0., 1.]], dtype=float32)"
      ]
     },
     "execution_count": 47,
     "metadata": {},
     "output_type": "execute_result"
    }
   ],
   "source": [
    "y"
   ]
  },
  {
   "cell_type": "code",
   "execution_count": 48,
   "metadata": {},
   "outputs": [],
   "source": [
    "### Train Test Split\n",
    "from sklearn.model_selection import train_test_split\n",
    "X_train,X_test,y_train,y_test=train_test_split(X,y,test_size=0.2,random_state=0)"
   ]
  },
  {
   "cell_type": "code",
   "execution_count": 49,
   "metadata": {},
   "outputs": [
    {
     "data": {
      "text/plain": [
       "array([[-193.1521    ,   89.18025   ,  -19.990849  , ...,   -0.90498585,\n",
       "          -1.3640039 ,   -5.928955  ],\n",
       "       [ -84.05484   ,   63.09341   ,    5.613019  , ...,   -1.0356139 ,\n",
       "          -1.2826893 ,    0.7403254 ],\n",
       "       [-201.1977    ,   76.78211   ,  -14.798453  , ...,   -2.1065576 ,\n",
       "          -1.3161548 ,   -2.4045334 ],\n",
       "       ...,\n",
       "       [-125.878746  ,  126.59248   ,  -23.164228  , ...,   -1.461022  ,\n",
       "          -5.207268  ,   -3.2916818 ],\n",
       "       [ -52.5842    ,   37.492367  ,   14.0829    , ...,   -3.1213567 ,\n",
       "          -2.875545  ,   -1.1666998 ],\n",
       "       [-422.54468   ,   89.863014  ,  -18.732948  , ...,   -4.458441  ,\n",
       "          -8.296607  ,   -2.824939  ]], dtype=float32)"
      ]
     },
     "execution_count": 49,
     "metadata": {},
     "output_type": "execute_result"
    }
   ],
   "source": [
    "X_train"
   ]
  },
  {
   "cell_type": "code",
   "execution_count": 50,
   "metadata": {},
   "outputs": [
    {
     "data": {
      "text/plain": [
       "(11200, 40)"
      ]
     },
     "execution_count": 50,
     "metadata": {},
     "output_type": "execute_result"
    }
   ],
   "source": [
    "X_train.shape"
   ]
  },
  {
   "cell_type": "code",
   "execution_count": 51,
   "metadata": {},
   "outputs": [
    {
     "data": {
      "text/plain": [
       "(2800, 40)"
      ]
     },
     "execution_count": 51,
     "metadata": {},
     "output_type": "execute_result"
    }
   ],
   "source": [
    "X_test.shape"
   ]
  },
  {
   "cell_type": "code",
   "execution_count": 52,
   "metadata": {},
   "outputs": [
    {
     "data": {
      "text/plain": [
       "(11200, 10)"
      ]
     },
     "execution_count": 52,
     "metadata": {},
     "output_type": "execute_result"
    }
   ],
   "source": [
    "y_train.shape"
   ]
  },
  {
   "cell_type": "code",
   "execution_count": 53,
   "metadata": {},
   "outputs": [
    {
     "data": {
      "text/plain": [
       "(2800, 10)"
      ]
     },
     "execution_count": 53,
     "metadata": {},
     "output_type": "execute_result"
    }
   ],
   "source": [
    "y_test.shape"
   ]
  },
  {
   "cell_type": "code",
   "execution_count": 55,
   "metadata": {},
   "outputs": [],
   "source": [
    "X_train=np.reshape(X_train,(X_train.shape[0],10,4,1))\n",
    "X_test=np.reshape(X_test,(X_test.shape[0],10,4,1))"
   ]
  },
  {
   "cell_type": "code",
   "execution_count": 56,
   "metadata": {},
   "outputs": [],
   "source": [
    "from tensorflow.keras.models import Sequential\n",
    "from tensorflow.keras.layers import Dense,Dropout,Activation,Flatten\n",
    "from tensorflow.keras.optimizers import Adam\n",
    "from sklearn import metrics"
   ]
  },
  {
   "cell_type": "code",
   "execution_count": 57,
   "metadata": {},
   "outputs": [],
   "source": [
    "import tensorflow.keras.layers as layers\n",
    "import IPython.display as ipd"
   ]
  },
  {
   "cell_type": "code",
   "execution_count": 58,
   "metadata": {},
   "outputs": [],
   "source": [
    "INPUTSHAPE = (10,4,1)"
   ]
  },
  {
   "cell_type": "code",
   "execution_count": 67,
   "metadata": {},
   "outputs": [
    {
     "name": "stdout",
     "output_type": "stream",
     "text": [
      "Model: \"sequential_5\"\n",
      "_________________________________________________________________\n",
      " Layer (type)                Output Shape              Param #   \n",
      "=================================================================\n",
      " conv2d_9 (Conv2D)           (None, 8, 2, 32)          320       \n",
      "                                                                 \n",
      " max_pooling2d_9 (MaxPooling  (None, 4, 1, 32)         0         \n",
      " 2D)                                                             \n",
      "                                                                 \n",
      " flatten_2 (Flatten)         (None, 128)               0         \n",
      "                                                                 \n",
      " dense_10 (Dense)            (None, 512)               66048     \n",
      "                                                                 \n",
      " dense_11 (Dense)            (None, 10)                5130      \n",
      "                                                                 \n",
      "=================================================================\n",
      "Total params: 71,498\n",
      "Trainable params: 71,498\n",
      "Non-trainable params: 0\n",
      "_________________________________________________________________\n"
     ]
    }
   ],
   "source": [
    "model = Sequential([\n",
    "    \n",
    "                          layers.Conv2D(32 , (3,3),activation = 'relu',padding='valid', input_shape = INPUTSHAPE),  \n",
    "                          layers.MaxPooling2D(2, padding='same'),\n",
    "                          #layers.Conv2D(128, (3,3), activation='relu',padding='valid'),\n",
    "                          #layers.MaxPooling2D(2, padding='same'),\n",
    "                          #layers.Dropout(0.3),\n",
    "                          #layers.Conv2D(128, (3,3), activation='relu',padding='valid'),\n",
    "                          #layers.MaxPooling2D(2, padding='same'),\n",
    "                          #layers.Dropout(0.3),\n",
    "                          #layers.GlobalAveragePooling2D(),\n",
    "                          layers.Flatten(),\n",
    "                          layers.Dense(512 , activation = 'relu'),\n",
    "                          layers.Dense(10 , activation = 'softmax')\n",
    "])\n",
    "\n",
    "model.compile(loss = 'categorical_crossentropy', optimizer = 'adam', metrics = 'acc')\n",
    "model.summary()"
   ]
  },
  {
   "cell_type": "code",
   "execution_count": 68,
   "metadata": {},
   "outputs": [],
   "source": [
    "import tensorflow as tf"
   ]
  },
  {
   "cell_type": "code",
   "execution_count": 69,
   "metadata": {},
   "outputs": [
    {
     "name": "stdout",
     "output_type": "stream",
     "text": [
      "Epoch 1/40\n",
      "1400/1400 [==============================] - 25s 13ms/step - loss: 1.0204 - acc: 0.6581 - val_loss: 0.5711 - val_acc: 0.7993\n",
      "Epoch 2/40\n",
      "1400/1400 [==============================] - 14s 10ms/step - loss: 0.3387 - acc: 0.8934 - val_loss: 0.1990 - val_acc: 0.9361\n",
      "Epoch 3/40\n",
      "1400/1400 [==============================] - 13s 10ms/step - loss: 0.1109 - acc: 0.9698 - val_loss: 0.0759 - val_acc: 0.9804\n",
      "Epoch 4/40\n",
      "1400/1400 [==============================] - 11s 8ms/step - loss: 0.0795 - acc: 0.9772 - val_loss: 0.0750 - val_acc: 0.9768\n",
      "Epoch 5/40\n",
      "1400/1400 [==============================] - 11s 8ms/step - loss: 0.0652 - acc: 0.9788 - val_loss: 0.0715 - val_acc: 0.9811\n",
      "Epoch 6/40\n",
      "1400/1400 [==============================] - 10s 7ms/step - loss: 0.0151 - acc: 0.9966 - val_loss: 0.0065 - val_acc: 0.9982\n",
      "Epoch 7/40\n",
      "1400/1400 [==============================] - 14s 10ms/step - loss: 0.0645 - acc: 0.9805 - val_loss: 0.0063 - val_acc: 0.9982\n",
      "Epoch 8/40\n",
      "1400/1400 [==============================] - 13s 9ms/step - loss: 0.0566 - acc: 0.9829 - val_loss: 0.0200 - val_acc: 0.9925\n",
      "Epoch 9/40\n",
      "1400/1400 [==============================] - 11s 8ms/step - loss: 0.0087 - acc: 0.9980 - val_loss: 0.0090 - val_acc: 0.9982\n",
      "Epoch 10/40\n",
      "1400/1400 [==============================] - 12s 9ms/step - loss: 0.0671 - acc: 0.9815 - val_loss: 0.0079 - val_acc: 0.9982\n",
      "Epoch 11/40\n",
      "1400/1400 [==============================] - 13s 9ms/step - loss: 0.0046 - acc: 0.9989 - val_loss: 0.0113 - val_acc: 0.9982\n",
      "Epoch 12/40\n",
      "1400/1400 [==============================] - 10s 7ms/step - loss: 0.0624 - acc: 0.9837 - val_loss: 0.0088 - val_acc: 0.9982\n",
      "Epoch 13/40\n",
      "1400/1400 [==============================] - 12s 8ms/step - loss: 0.0040 - acc: 0.9988 - val_loss: 0.0056 - val_acc: 0.9982\n",
      "Epoch 14/40\n",
      "1400/1400 [==============================] - 13s 9ms/step - loss: 0.0713 - acc: 0.9809 - val_loss: 0.0520 - val_acc: 0.9854\n",
      "Epoch 15/40\n",
      "1400/1400 [==============================] - 12s 9ms/step - loss: 0.0086 - acc: 0.9978 - val_loss: 0.0035 - val_acc: 0.9989\n",
      "Epoch 16/40\n",
      "1400/1400 [==============================] - 12s 9ms/step - loss: 0.0426 - acc: 0.9894 - val_loss: 0.2101 - val_acc: 0.9361\n",
      "Epoch 17/40\n",
      "1400/1400 [==============================] - 12s 9ms/step - loss: 0.0225 - acc: 0.9925 - val_loss: 0.0026 - val_acc: 0.9982\n",
      "Epoch 18/40\n",
      "1400/1400 [==============================] - 14s 10ms/step - loss: 0.0021 - acc: 0.9993 - val_loss: 0.0044 - val_acc: 0.9982\n",
      "Epoch 19/40\n",
      "1400/1400 [==============================] - 12s 8ms/step - loss: 0.0025 - acc: 0.9988 - val_loss: 0.0040 - val_acc: 0.9989\n",
      "Epoch 20/40\n",
      "1400/1400 [==============================] - 11s 8ms/step - loss: 0.0790 - acc: 0.9818 - val_loss: 0.0062 - val_acc: 0.9989\n",
      "Epoch 21/40\n",
      "1400/1400 [==============================] - 13s 9ms/step - loss: 0.0041 - acc: 0.9990 - val_loss: 0.0031 - val_acc: 0.9989\n",
      "Epoch 22/40\n",
      "1400/1400 [==============================] - 10s 7ms/step - loss: 0.0026 - acc: 0.9992 - val_loss: 0.0039 - val_acc: 0.9982\n",
      "Epoch 23/40\n",
      "1400/1400 [==============================] - 8s 6ms/step - loss: 0.0880 - acc: 0.9829 - val_loss: 0.0060 - val_acc: 0.9982\n",
      "Epoch 24/40\n",
      "1400/1400 [==============================] - 13s 9ms/step - loss: 0.0029 - acc: 0.9989 - val_loss: 0.0035 - val_acc: 0.9982\n",
      "Epoch 25/40\n",
      "1400/1400 [==============================] - 11s 8ms/step - loss: 0.0019 - acc: 0.9993 - val_loss: 0.0059 - val_acc: 0.9982\n"
     ]
    }
   ],
   "source": [
    "batch_size = 8\n",
    "callback = tf.keras.callbacks.EarlyStopping(\n",
    "    monitor='val_loss', min_delta=0, patience=8, verbose=0, mode='auto',\n",
    "    baseline=None, restore_best_weights=False)\n",
    "#checkpointer = ModelCheckpoint(filepath='saved_models/audio_classification.hdf5', \n",
    "                             # verbose=1, save_best_only=True)\n",
    "history = model.fit(X_train,y_train ,validation_data=(X_test,y_test),\n",
    "            epochs=40,\n",
    "            callbacks = [callback],batch_size=batch_size)"
   ]
  },
  {
   "cell_type": "code",
   "execution_count": 70,
   "metadata": {},
   "outputs": [
    {
     "data": {
      "image/png": "[encoded data removed]",
      "text/plain": [
       "<Figure size 432x288 with 1 Axes>"
      ]
     },
     "metadata": {
      "needs_background": "light"
     },
     "output_type": "display_data"
    },
    {
     "data": {
      "image/png": "[encoded data removed]",
      "text/plain": [
       "<Figure size 432x288 with 1 Axes>"
      ]
     },
     "metadata": {
      "needs_background": "light"
     },
     "output_type": "display_data"
    }
   ],
   "source": [
    "import matplotlib.pyplot as plt\n",
    "plt.plot(history.history['acc'])\n",
    "plt.plot(history.history['val_acc'])\n",
    "plt.title('model accuracy')\n",
    "plt.ylabel('accuracy')\n",
    "plt.xlabel('epoch')\n",
    "plt.legend(['train', 'validation'], loc='upper left')\n",
    "plt.show()\n",
    "\n",
    "\n",
    "plt.plot(history.history['loss'])\n",
    "plt.plot(history.history['val_loss'])\n",
    "plt.title('model loss')\n",
    "plt.ylabel('loss')\n",
    "plt.xlabel('epoch')\n",
    "plt.legend(['train', 'validation'], loc='upper left')\n",
    "plt.show()"
   ]
  },
  {
   "cell_type": "code",
   "execution_count": 71,
   "metadata": {},
   "outputs": [
    {
     "name": "stdout",
     "output_type": "stream",
     "text": [
      "0.9982143044471741\n"
     ]
    }
   ],
   "source": [
    "test_accuracy=model.evaluate(X_test,y_test,verbose=0)\n",
    "print(test_accuracy[1])"
   ]
  },
  {
   "cell_type": "code",
   "execution_count": 72,
   "metadata": {},
   "outputs": [],
   "source": [
    "%matplotlib inline\n",
    "from sklearn.metrics import confusion_matrix\n",
    "import itertools\n",
    "import matplotlib.pyplot as plt"
   ]
  },
  {
   "cell_type": "code",
   "execution_count": 73,
   "metadata": {},
   "outputs": [
    {
     "name": "stdout",
     "output_type": "stream",
     "text": [
      "88/88 [==============================] - 2s 9ms/step\n"
     ]
    }
   ],
   "source": [
    "y_pred=model.predict(X_test)"
   ]
  },
  {
   "cell_type": "code",
   "execution_count": 74,
   "metadata": {},
   "outputs": [],
   "source": [
    "round_off=np.round_(y_pred)"
   ]
  },
  {
   "cell_type": "code",
   "execution_count": 75,
   "metadata": {
    "scrolled": true
   },
   "outputs": [
    {
     "name": "stdout",
     "output_type": "stream",
     "text": [
      "Confusion Matrix\n",
      "[[271   0   0   0   0   0   0   0   0   0]\n",
      " [  0 253   0   0   0   0   0   0   0   0]\n",
      " [  0   0 273   0   0   0   0   0   0   0]\n",
      " [  0   0   0 274   0   0   0   0   0   0]\n",
      " [  0   0   0   0 276   0   0   0   0   0]\n",
      " [  0   0   0   0   0 296   0   0   0   0]\n",
      " [  0   0   0   0   0   0 286   0   0   5]\n",
      " [  0   0   0   0   0   0   0 297   0   0]\n",
      " [  0   0   0   0   0   0   0   0 296   0]\n",
      " [  0   0   0   0   0   0   0   0   0 273]]\n"
     ]
    },
    {
     "data": {
      "image/png": "[encoded data removed]",
      "text/plain": [
       "<Figure size 1440x1440 with 2 Axes>"
      ]
     },
     "metadata": {
      "needs_background": "light"
     },
     "output_type": "display_data"
    }
   ],
   "source": [
    "import seaborn as sns\n",
    "from sklearn.metrics import plot_confusion_matrix\n",
    "cm=confusion_matrix(y_test.argmax(axis=1),round_off.argmax(axis=1))\n",
    "print(\"Confusion Matrix\")\n",
    "print(cm)\n",
    "\n",
    "plt.figure(figsize=(20,20))\n",
    "sns.heatmap(cm,annot=True,fmt=\"d\",cmap='Set3')\n",
    "plt.title(\"Confusion Matrix\")\n",
    "plt.ylabel(\"True class\")\n",
    "plt.xlabel(\"Predicted class\")\n",
    "plt.show()"
   ]
  },
  {
   "cell_type": "code",
   "execution_count": 110,
   "metadata": {},
   "outputs": [
    {
     "name": "stdout",
     "output_type": "stream",
     "text": [
      "1/1 [==============================] - 0s 163ms/step\n",
      "hiphop\n"
     ]
    }
   ],
   "source": [
    "mydict = {'blues': 0, 'classical': 1, 'country': 2, 'disco': 3, 'hiphop': 4, \n",
    "        'jazz': 5, 'metal': 6, 'pop': 7, 'reggae': 8, 'rock': 9}\n",
    "import librosa\n",
    "audio_file_path=\"D:\\\\shravanne-tasks\\\\new\\\\genres_original\\\\hiphop\\\\hiphop.00009.wav\"\n",
    "librosa_audio_data,librosa_sample_rate=librosa.load(audio_file_path)\n",
    "mfccs = np.mean(librosa.feature.mfcc(y=librosa_audio_data, sr=librosa_sample_rate, n_mfcc=40).T,axis=0)\n",
    "x=[]\n",
    "x.append(mfccs)\n",
    "x=np.array(x)\n",
    "x=np.reshape(x,(x.shape[0],10,4,1))\n",
    "y_pre=model.predict(x)\n",
    "y_pre=np.round_(y_pre)\n",
    "a,b=np.where(y_pre==1)\n",
    "for gerne, classs in mydict.items(): \n",
    "    if classs == b[0]:\n",
    "        print(gerne)"
   ]
  },
  {
   "cell_type": "code",
   "execution_count": null,
   "metadata": {},
   "outputs": [],
   "source": []
  }
 ],
 "metadata": {
  "kernelspec": {
   "display_name": "Python 3",
   "language": "python",
   "name": "python3"
  },
  "language_info": {
   "codemirror_mode": {
    "name": "ipython",
    "version": 3
   },
   "file_extension": ".py",
   "mimetype": "text/x-python",
   "name": "python",
   "nbconvert_exporter": "python",
   "pygments_lexer": "ipython3",
   "version": "3.8.5"
  }
 },
 "nbformat": 4,
 "nbformat_minor": 4
}
