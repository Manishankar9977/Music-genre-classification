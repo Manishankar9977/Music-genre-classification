{
 "cells": [
  {
   "cell_type": "code",
   "execution_count": 1,
   "metadata": {},
   "outputs": [],
   "source": [
    "import warnings\n",
    "warnings.filterwarnings('ignore')\n",
    "import pandas as pd\n",
    "import numpy as np\n",
    "import librosa\n",
    "import matplotlib.pyplot as plt\n",
    "\n",
    "import os\n",
    "from PIL import Image\n",
    "from pathlib import Path\n",
    "import csv\n",
    "\n",
    "from sklearn.model_selection import train_test_split\n",
    "from sklearn.preprocessing import LabelEncoder, StandardScaler\n",
    "\n",
    "from sklearn.linear_model import LinearRegression\n",
    "from sklearn.svm import SVC\n",
    "from sklearn.ensemble import RandomForestClassifier\n",
    "\n",
    "import tensorflow\n",
    "import librosa.display"
   ]
  },
  {
   "cell_type": "code",
   "execution_count": 8,
   "metadata": {},
   "outputs": [],
   "source": [
    "import librosa\n",
    "audio_file_path=\"C:\\\\Users\\\\ril\\\\Downloads\\\\ch_005.wav\"\n",
    "librosa_audio_data,librosa_sample_rate=librosa.load(audio_file_path)"
   ]
  },
  {
   "cell_type": "code",
   "execution_count": 15,
   "metadata": {},
   "outputs": [
    {
     "name": "stdout",
     "output_type": "stream",
     "text": [
      "(40, 127)\n"
     ]
    }
   ],
   "source": [
    "mfccs = librosa.feature.mfcc(y=librosa_audio_data, sr=librosa_sample_rate, n_mfcc=40)\n",
    "#mfccs=mfccs.T\n",
    "print(mfccs.shape)"
   ]
  },
  {
   "cell_type": "code",
   "execution_count": 44,
   "metadata": {},
   "outputs": [],
   "source": [
    "import numpy as np\n",
    "dataset = []\n",
    "cla=[]\n",
    "genres = {'blues': 0, 'classical': 1, 'country': 2, 'disco': 3, 'hiphop': 4, \n",
    "        'jazz': 5, 'metal': 6, 'pop': 7, 'reggae': 8, 'rock': 9}\n",
    "\n",
    "for genre, genre_number in genres.items():\n",
    "    for filename in os.listdir(f'D:\\\\shravanne-tasks\\\\new\\\\genres_original\\\\{genre}'):\n",
    "        songname = f'D:\\\\shravanne-tasks\\\\new\\\\genres_original\\\\{genre}\\\\{filename}'\n",
    "        for index in range(14):\n",
    "            audio, sr = librosa.load(songname,res_type='kaiser_test')\n",
    "            mfcc_fea = np.mean(librosa.feature.mfcc(y=audio, sr=sr, n_mfcc=40).T,axis=0)\n",
    "            \n",
    "            fea_class=genre\n",
    "            dataset.append(mfcc_fea)\n",
    "            cla.append(fea_class)"
   ]
  },
  {
   "cell_type": "code",
   "execution_count": 45,
   "metadata": {},
   "outputs": [],
   "source": [
    "d = {'Features':dataset,'class':cla}"
   ]
  },
  {
   "cell_type": "code",
   "execution_count": 46,
   "metadata": {},
   "outputs": [
    {
     "data": {
      "text/html": [
       "<div>\n",
       "<style scoped>\n",
       "    .dataframe tbody tr th:only-of-type {\n",
       "        vertical-align: middle;\n",
       "    }\n",
       "\n",
       "    .dataframe tbody tr th {\n",
       "        vertical-align: top;\n",
       "    }\n",
       "\n",
       "    .dataframe thead th {\n",
       "        text-align: right;\n",
       "    }\n",
       "</style>\n",
       "<table border=\"1\" class=\"dataframe\">\n",
       "  <thead>\n",
       "    <tr style=\"text-align: right;\">\n",
       "      <th></th>\n",
       "      <th>Features</th>\n",
       "      <th>class</th>\n",
       "    </tr>\n",
       "  </thead>\n",
       "  <tbody>\n",
       "    <tr>\n",
       "      <th>0</th>\n",
       "      <td>[-113.59882, 121.57067, -19.162262, 42.36394, ...</td>\n",
       "      <td>blues</td>\n",
       "    </tr>\n",
       "    <tr>\n",
       "      <th>1</th>\n",
       "      <td>[-113.59882, 121.57067, -19.162262, 42.36394, ...</td>\n",
       "      <td>blues</td>\n",
       "    </tr>\n",
       "    <tr>\n",
       "      <th>2</th>\n",
       "      <td>[-113.59882, 121.57067, -19.162262, 42.36394, ...</td>\n",
       "      <td>blues</td>\n",
       "    </tr>\n",
       "    <tr>\n",
       "      <th>3</th>\n",
       "      <td>[-113.59882, 121.57067, -19.162262, 42.36394, ...</td>\n",
       "      <td>blues</td>\n",
       "    </tr>\n",
       "    <tr>\n",
       "      <th>4</th>\n",
       "      <td>[-113.59882, 121.57067, -19.162262, 42.36394, ...</td>\n",
       "      <td>blues</td>\n",
       "    </tr>\n",
       "  </tbody>\n",
       "</table>\n",
       "</div>"
      ],
      "text/plain": [
       "                                            Features  class\n",
       "0  [-113.59882, 121.57067, -19.162262, 42.36394, ...  blues\n",
       "1  [-113.59882, 121.57067, -19.162262, 42.36394, ...  blues\n",
       "2  [-113.59882, 121.57067, -19.162262, 42.36394, ...  blues\n",
       "3  [-113.59882, 121.57067, -19.162262, 42.36394, ...  blues\n",
       "4  [-113.59882, 121.57067, -19.162262, 42.36394, ...  blues"
      ]
     },
     "execution_count": 46,
     "metadata": {},
     "output_type": "execute_result"
    }
   ],
   "source": [
    "import pandas as pd\n",
    "extracted_features_df=pd.DataFrame(d)\n",
    "extracted_features_df.head()"
   ]
  },
  {
   "cell_type": "code",
   "execution_count": null,
   "metadata": {},
   "outputs": [],
   "source": []
  },
  {
   "cell_type": "code",
   "execution_count": 47,
   "metadata": {},
   "outputs": [],
   "source": [
    "X=np.array(extracted_features_df['Features'].tolist())\n",
    "y=np.array(extracted_features_df['class'].tolist())"
   ]
  },
  {
   "cell_type": "code",
   "execution_count": 48,
   "metadata": {},
   "outputs": [],
   "source": [
    "from tensorflow.keras.utils import to_categorical\n",
    "from sklearn.preprocessing import LabelEncoder\n",
    "labelencoder=LabelEncoder()\n",
    "y=to_categorical(labelencoder.fit_transform(y))"
   ]
  },
  {
   "cell_type": "code",
   "execution_count": 49,
   "metadata": {},
   "outputs": [],
   "source": [
    "from sklearn.model_selection import train_test_split\n",
    "X_train,X_test,y_train,y_test=train_test_split(X,y,test_size=0.2,random_state=0)"
   ]
  },
  {
   "cell_type": "code",
   "execution_count": 50,
   "metadata": {},
   "outputs": [
    {
     "data": {
      "text/plain": [
       "(11200, 40)"
      ]
     },
     "execution_count": 50,
     "metadata": {},
     "output_type": "execute_result"
    }
   ],
   "source": [
    "X_train.shape"
   ]
  },
  {
   "cell_type": "code",
   "execution_count": 51,
   "metadata": {},
   "outputs": [
    {
     "data": {
      "text/plain": [
       "(2800, 40)"
      ]
     },
     "execution_count": 51,
     "metadata": {},
     "output_type": "execute_result"
    }
   ],
   "source": [
    "X_test.shape"
   ]
  },
  {
   "cell_type": "code",
   "execution_count": 52,
   "metadata": {},
   "outputs": [],
   "source": [
    "X_train=np.reshape(X_train,(X_train.shape[0],10,4))\n",
    "X_test=np.reshape(X_test,(X_test.shape[0],10,4))"
   ]
  },
  {
   "cell_type": "code",
   "execution_count": 53,
   "metadata": {},
   "outputs": [
    {
     "data": {
      "text/plain": [
       "(11200, 10, 4)"
      ]
     },
     "execution_count": 53,
     "metadata": {},
     "output_type": "execute_result"
    }
   ],
   "source": [
    "X_train.shape"
   ]
  },
  {
   "cell_type": "code",
   "execution_count": 55,
   "metadata": {},
   "outputs": [],
   "source": [
    "import keras"
   ]
  },
  {
   "cell_type": "code",
   "execution_count": 57,
   "metadata": {},
   "outputs": [],
   "source": [
    "input_shape=(10,4)"
   ]
  },
  {
   "cell_type": "code",
   "execution_count": 58,
   "metadata": {},
   "outputs": [],
   "source": [
    "model = keras.Sequential()\n",
    "\n",
    "    # 2 LSTM layers\n",
    "model.add(keras.layers.LSTM(64, input_shape=input_shape, return_sequences=True))\n",
    "model.add(keras.layers.LSTM(64))\n",
    "\n",
    "    # dense layer\n",
    "model.add(keras.layers.Dense(64, activation='relu'))\n",
    "model.add(keras.layers.Dropout(0.3))\n",
    "\n",
    "    # output layer\n",
    "model.add(keras.layers.Dense(10, activation='softmax'))\n",
    "optimiser = keras.optimizers.Adam(learning_rate=0.0001)\n",
    "model.compile(optimizer=optimiser,\n",
    "                  loss='categorical_crossentropy',\n",
    "                  metrics=['acc'])"
   ]
  },
  {
   "cell_type": "code",
   "execution_count": 60,
   "metadata": {},
   "outputs": [
    {
     "name": "stdout",
     "output_type": "stream",
     "text": [
      "Epoch 1/40\n",
      "350/350 [==============================] - 24s 14ms/step - loss: 1.1566 - acc: 0.6180 - val_loss: 1.0188 - val_acc: 0.6739\n",
      "Epoch 2/40\n",
      "350/350 [==============================] - 3s 10ms/step - loss: 1.0538 - acc: 0.6513 - val_loss: 0.9296 - val_acc: 0.6993\n",
      "Epoch 3/40\n",
      "350/350 [==============================] - 4s 11ms/step - loss: 0.9525 - acc: 0.6829 - val_loss: 0.8799 - val_acc: 0.7086\n",
      "Epoch 4/40\n",
      "350/350 [==============================] - 4s 11ms/step - loss: 0.8925 - acc: 0.7035 - val_loss: 0.7992 - val_acc: 0.7236\n",
      "Epoch 5/40\n",
      "350/350 [==============================] - 4s 11ms/step - loss: 0.8170 - acc: 0.7274 - val_loss: 0.7201 - val_acc: 0.7682\n",
      "Epoch 6/40\n",
      "350/350 [==============================] - 3s 9ms/step - loss: 0.7490 - acc: 0.7582 - val_loss: 0.6619 - val_acc: 0.7939\n",
      "Epoch 7/40\n",
      "350/350 [==============================] - 3s 10ms/step - loss: 0.7057 - acc: 0.7706 - val_loss: 0.6056 - val_acc: 0.8161\n",
      "Epoch 8/40\n",
      "350/350 [==============================] - 3s 9ms/step - loss: 0.6478 - acc: 0.7896 - val_loss: 0.5514 - val_acc: 0.8304\n",
      "Epoch 9/40\n",
      "350/350 [==============================] - 3s 9ms/step - loss: 0.5918 - acc: 0.8142 - val_loss: 0.5233 - val_acc: 0.8346\n",
      "Epoch 10/40\n",
      "350/350 [==============================] - 3s 9ms/step - loss: 0.5518 - acc: 0.8269 - val_loss: 0.4786 - val_acc: 0.8629\n",
      "Epoch 11/40\n",
      "350/350 [==============================] - 3s 9ms/step - loss: 0.5048 - acc: 0.8406 - val_loss: 0.4223 - val_acc: 0.8786\n",
      "Epoch 12/40\n",
      "350/350 [==============================] - 3s 10ms/step - loss: 0.4676 - acc: 0.8510 - val_loss: 0.3811 - val_acc: 0.8993\n",
      "Epoch 13/40\n",
      "350/350 [==============================] - 3s 9ms/step - loss: 0.4269 - acc: 0.8706 - val_loss: 0.3484 - val_acc: 0.9018\n",
      "Epoch 14/40\n",
      "350/350 [==============================] - 3s 10ms/step - loss: 0.3932 - acc: 0.8796 - val_loss: 0.3074 - val_acc: 0.9161\n",
      "Epoch 15/40\n",
      "350/350 [==============================] - 3s 9ms/step - loss: 0.3629 - acc: 0.8900 - val_loss: 0.2821 - val_acc: 0.9125\n",
      "Epoch 16/40\n",
      "350/350 [==============================] - 3s 9ms/step - loss: 0.3259 - acc: 0.8981 - val_loss: 0.2421 - val_acc: 0.9336\n",
      "Epoch 17/40\n",
      "350/350 [==============================] - 3s 10ms/step - loss: 0.3002 - acc: 0.9067 - val_loss: 0.2243 - val_acc: 0.9407\n",
      "Epoch 18/40\n",
      "350/350 [==============================] - 3s 9ms/step - loss: 0.2687 - acc: 0.9186 - val_loss: 0.1960 - val_acc: 0.9511\n",
      "Epoch 19/40\n",
      "350/350 [==============================] - 3s 8ms/step - loss: 0.2425 - acc: 0.9322 - val_loss: 0.1728 - val_acc: 0.9554\n",
      "Epoch 20/40\n",
      "350/350 [==============================] - 3s 9ms/step - loss: 0.2231 - acc: 0.9342 - val_loss: 0.1606 - val_acc: 0.9543\n",
      "Epoch 21/40\n",
      "350/350 [==============================] - 3s 9ms/step - loss: 0.2025 - acc: 0.9432 - val_loss: 0.1406 - val_acc: 0.9671\n",
      "Epoch 22/40\n",
      "350/350 [==============================] - 3s 9ms/step - loss: 0.1842 - acc: 0.9496 - val_loss: 0.1176 - val_acc: 0.9700\n",
      "Epoch 23/40\n",
      "350/350 [==============================] - 3s 9ms/step - loss: 0.1619 - acc: 0.9571 - val_loss: 0.1104 - val_acc: 0.9739\n",
      "Epoch 24/40\n",
      "350/350 [==============================] - 3s 9ms/step - loss: 0.1497 - acc: 0.9604 - val_loss: 0.0925 - val_acc: 0.9789\n",
      "Epoch 25/40\n",
      "350/350 [==============================] - 3s 9ms/step - loss: 0.1297 - acc: 0.9671 - val_loss: 0.0844 - val_acc: 0.9814\n",
      "Epoch 26/40\n",
      "350/350 [==============================] - 3s 10ms/step - loss: 0.1253 - acc: 0.9658 - val_loss: 0.0718 - val_acc: 0.9850\n",
      "Epoch 27/40\n",
      "350/350 [==============================] - 3s 9ms/step - loss: 0.1081 - acc: 0.9735 - val_loss: 0.0620 - val_acc: 0.9871\n",
      "Epoch 28/40\n",
      "350/350 [==============================] - 3s 9ms/step - loss: 0.0971 - acc: 0.9769 - val_loss: 0.0741 - val_acc: 0.9764\n",
      "Epoch 29/40\n",
      "350/350 [==============================] - 3s 10ms/step - loss: 0.0909 - acc: 0.9791 - val_loss: 0.0463 - val_acc: 0.9939\n",
      "Epoch 30/40\n",
      "350/350 [==============================] - 3s 9ms/step - loss: 0.0881 - acc: 0.9786 - val_loss: 0.0404 - val_acc: 0.9932\n",
      "Epoch 31/40\n",
      "350/350 [==============================] - 3s 9ms/step - loss: 0.0696 - acc: 0.9840 - val_loss: 0.0330 - val_acc: 0.9954\n",
      "Epoch 32/40\n",
      "350/350 [==============================] - 3s 9ms/step - loss: 0.0635 - acc: 0.9851 - val_loss: 0.0333 - val_acc: 0.9946\n",
      "Epoch 33/40\n",
      "350/350 [==============================] - 3s 9ms/step - loss: 0.0626 - acc: 0.9843 - val_loss: 0.0371 - val_acc: 0.9925\n",
      "Epoch 34/40\n",
      "350/350 [==============================] - 3s 8ms/step - loss: 0.0555 - acc: 0.9885 - val_loss: 0.0227 - val_acc: 0.9954\n",
      "Epoch 35/40\n",
      "350/350 [==============================] - 3s 8ms/step - loss: 0.0468 - acc: 0.9903 - val_loss: 0.0210 - val_acc: 0.9954\n",
      "Epoch 36/40\n",
      "350/350 [==============================] - 3s 9ms/step - loss: 0.0460 - acc: 0.9904 - val_loss: 0.0173 - val_acc: 0.9961\n",
      "Epoch 37/40\n",
      "350/350 [==============================] - 3s 10ms/step - loss: 0.0473 - acc: 0.9887 - val_loss: 0.0680 - val_acc: 0.9818\n",
      "Epoch 38/40\n",
      "350/350 [==============================] - 3s 9ms/step - loss: 0.0347 - acc: 0.9925 - val_loss: 0.0137 - val_acc: 0.9971\n",
      "Epoch 39/40\n",
      "350/350 [==============================] - 3s 10ms/step - loss: 0.0309 - acc: 0.9948 - val_loss: 0.0115 - val_acc: 0.9989\n",
      "Epoch 40/40\n",
      "350/350 [==============================] - 3s 9ms/step - loss: 0.0319 - acc: 0.9936 - val_loss: 0.0111 - val_acc: 0.9989\n"
     ]
    }
   ],
   "source": [
    "progression = model.fit(X_train, y_train, validation_data=(X_test, y_test), batch_size=32, epochs=40)"
   ]
  },
  {
   "cell_type": "code",
   "execution_count": 61,
   "metadata": {},
   "outputs": [
    {
     "name": "stdout",
     "output_type": "stream",
     "text": [
      "0.9989285469055176\n"
     ]
    }
   ],
   "source": [
    "test_accuracy=model.evaluate(X_test,y_test,verbose=0)\n",
    "print(test_accuracy[1])"
   ]
  },
  {
   "cell_type": "code",
   "execution_count": 70,
   "metadata": {},
   "outputs": [
    {
     "data": {
      "image/png": "[encoded data removed]",
      "text/plain": [
       "<Figure size 432x288 with 1 Axes>"
      ]
     },
     "metadata": {
      "needs_background": "light"
     },
     "output_type": "display_data"
    },
    {
     "data": {
      "image/png": "[encoded data removed]",
      "text/plain": [
       "<Figure size 432x288 with 1 Axes>"
      ]
     },
     "metadata": {
      "needs_background": "light"
     },
     "output_type": "display_data"
    }
   ],
   "source": [
    "import matplotlib.pyplot as plt\n",
    "plt.plot(progression.history['acc'])\n",
    "plt.plot(progression.history['val_acc'])\n",
    "plt.title('model accuracy')\n",
    "plt.ylabel('accuracy')\n",
    "plt.xlabel('epoch')\n",
    "plt.legend(['train', 'validation'], loc='upper left')\n",
    "plt.show()\n",
    "\n",
    "\n",
    "plt.plot(progression.history['loss'])\n",
    "plt.plot(progression.history['val_loss'])\n",
    "plt.title('model loss')\n",
    "plt.ylabel('loss')\n",
    "plt.xlabel('epoch')\n",
    "plt.legend(['train', 'validation'], loc='upper left')\n",
    "plt.show()"
   ]
  },
  {
   "cell_type": "code",
   "execution_count": 62,
   "metadata": {},
   "outputs": [
    {
     "name": "stdout",
     "output_type": "stream",
     "text": [
      "88/88 [==============================] - 2s 5ms/step\n"
     ]
    }
   ],
   "source": [
    "y_pred=model.predict(X_test)"
   ]
  },
  {
   "cell_type": "code",
   "execution_count": 63,
   "metadata": {},
   "outputs": [],
   "source": [
    "round_off=np.round_(y_pred)"
   ]
  },
  {
   "cell_type": "code",
   "execution_count": 65,
   "metadata": {},
   "outputs": [],
   "source": [
    "from sklearn.metrics import confusion_matrix"
   ]
  },
  {
   "cell_type": "code",
   "execution_count": 66,
   "metadata": {},
   "outputs": [
    {
     "name": "stdout",
     "output_type": "stream",
     "text": [
      "Confusion Matrix\n",
      "[[271   0   0   0   0   0   0   0   0   0]\n",
      " [  0 253   0   0   0   0   0   0   0   0]\n",
      " [  0   0 273   0   0   0   0   0   0   0]\n",
      " [  0   0   0 274   0   0   0   0   0   0]\n",
      " [  0   0   0   0 276   0   0   0   0   0]\n",
      " [  0   0   0   0   0 296   0   0   0   0]\n",
      " [  0   0   0   0   0   0 291   0   0   0]\n",
      " [  0   0   0   0   0   0   0 297   0   0]\n",
      " [  0   0   0   0   0   0   0   0 296   0]\n",
      " [  0   0   0   0   0   0   3   0   0 270]]\n"
     ]
    },
    {
     "data": {
      "image/png": "[encoded data removed]",
      "text/plain": [
       "<Figure size 1440x1440 with 2 Axes>"
      ]
     },
     "metadata": {
      "needs_background": "light"
     },
     "output_type": "display_data"
    }
   ],
   "source": [
    "import seaborn as sns\n",
    "from sklearn.metrics import plot_confusion_matrix\n",
    "cm=confusion_matrix(y_test.argmax(axis=1),round_off.argmax(axis=1))\n",
    "print(\"Confusion Matrix\")\n",
    "print(cm)\n",
    "\n",
    "plt.figure(figsize=(20,20))\n",
    "sns.heatmap(cm,annot=True,fmt=\"d\",cmap='Set3')\n",
    "plt.title(\"Confusion Matrix\")\n",
    "plt.ylabel(\"True class\")\n",
    "plt.xlabel(\"Predicted class\")\n",
    "plt.show()"
   ]
  },
  {
   "cell_type": "code",
   "execution_count": 72,
   "metadata": {},
   "outputs": [
    {
     "name": "stdout",
     "output_type": "stream",
     "text": [
      "1/1 [==============================] - 7s 7s/step\n",
      "disco\n"
     ]
    }
   ],
   "source": [
    "mydict = {'blues': 0, 'classical': 1, 'country': 2, 'disco': 3, 'hiphop': 4, \n",
    "        'jazz': 5, 'metal': 6, 'pop': 7, 'reggae': 8, 'rock': 9}\n",
    "import librosa\n",
    "audio_file_path=\"D:\\\\shravanne-tasks\\\\new\\\\genres_original\\\\disco\\\\disco.00009.wav\"\n",
    "librosa_audio_data,librosa_sample_rate=librosa.load(audio_file_path)\n",
    "mfccs = np.mean(librosa.feature.mfcc(y=librosa_audio_data, sr=librosa_sample_rate, n_mfcc=40).T,axis=0)\n",
    "x=[]\n",
    "x.append(mfccs)\n",
    "x=np.array(x)\n",
    "x=np.reshape(x,(x.shape[0],10,4))\n",
    "y_pre=model.predict(x)\n",
    "y_pre=np.round_(y_pre)\n",
    "a,b=np.where(y_pre==1)\n",
    "for gerne, classs in mydict.items(): \n",
    "    if classs == b[0]:\n",
    "        print(gerne)"
   ]
  },
  {
   "cell_type": "code",
   "execution_count": 71,
   "metadata": {},
   "outputs": [
    {
     "data": {
      "text/plain": [
       "{'blues': 0,\n",
       " 'classical': 1,\n",
       " 'country': 2,\n",
       " 'disco': 3,\n",
       " 'hiphop': 4,\n",
       " 'jazz': 5,\n",
       " 'metal': 6,\n",
       " 'pop': 7,\n",
       " 'reggae': 8,\n",
       " 'rock': 9}"
      ]
     },
     "execution_count": 71,
     "metadata": {},
     "output_type": "execute_result"
    }
   ],
   "source": [
    "mydict"
   ]
  },
  {
   "cell_type": "code",
   "execution_count": 73,
   "metadata": {},
   "outputs": [
    {
     "name": "stdout",
     "output_type": "stream",
     "text": [
      "Saved model to disk\n"
     ]
    }
   ],
   "source": [
    "model.save(\"lstm.h5\")\n",
    "print(\"Saved model to disk\")"
   ]
  },
  {
   "cell_type": "code",
   "execution_count": null,
   "metadata": {},
   "outputs": [],
   "source": [
    "\n",
    "# equivalent to: model.save(\"model.h5\")\n",
    "#from tensorflow.keras.models import save_model\n",
    "#save_model(model, \"model.h5\")"
   ]
  },
  {
   "cell_type": "code",
   "execution_count": null,
   "metadata": {},
   "outputs": [],
   "source": [
    "\n",
    "# load and evaluate a saved model\n",
    "from numpy import loadtxt\n",
    "from tensorflow.keras.models import load_model\n",
    " \n",
    "# load model\n",
    "model = load_model('model.h5')\n",
    "# summarize model.\n",
    "model.summary()\n",
    "# load dataset\n",
    "dataset = loadtxt(\"pima-indians-diabetes.csv\", delimiter=\",\")\n",
    "# split into input (X) and output (Y) variables\n",
    "X = dataset[:,0:8]\n",
    "Y = dataset[:,8]\n",
    "# evaluate the model\n",
    "score = model.evaluate(X, Y, verbose=0)\n",
    "print(\"%s: %.2f%%\" % (model.metrics_names[1], score[1]*100))"
   ]
  }
 ],
 "metadata": {
  "kernelspec": {
   "display_name": "Python 3",
   "language": "python",
   "name": "python3"
  },
  "language_info": {
   "codemirror_mode": {
    "name": "ipython",
    "version": 3
   },
   "file_extension": ".py",
   "mimetype": "text/x-python",
   "name": "python",
   "nbconvert_exporter": "python",
   "pygments_lexer": "ipython3",
   "version": "3.8.5"
  }
 },
 "nbformat": 4,
 "nbformat_minor": 4
}
