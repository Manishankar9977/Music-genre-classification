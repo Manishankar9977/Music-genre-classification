{
 "cells": [
  {
   "cell_type": "code",
   "execution_count": 1,
   "metadata": {},
   "outputs": [
    {
     "name": "stdout",
     "output_type": "stream",
     "text": [
      "Requirement already satisfied: librosa in c:\\users\\ril\\anaconda3\\lib\\site-packages (0.9.2)\n",
      "Requirement already satisfied: pooch>=1.0 in c:\\users\\ril\\anaconda3\\lib\\site-packages (from librosa) (1.6.0)\n",
      "Requirement already satisfied: numba>=0.45.1 in c:\\users\\ril\\anaconda3\\lib\\site-packages (from librosa) (0.51.2)\n",
      "Requirement already satisfied: scikit-learn>=0.19.1 in c:\\users\\ril\\anaconda3\\lib\\site-packages (from librosa) (0.23.2)\n",
      "Requirement already satisfied: packaging>=20.0 in c:\\users\\ril\\anaconda3\\lib\\site-packages (from librosa) (21.3)\n",
      "Requirement already satisfied: audioread>=2.1.9 in c:\\users\\ril\\anaconda3\\lib\\site-packages (from librosa) (3.0.0)\n",
      "Requirement already satisfied: scipy>=1.2.0 in c:\\users\\ril\\anaconda3\\lib\\site-packages (from librosa) (1.5.2)\n",
      "Requirement already satisfied: joblib>=0.14 in c:\\users\\ril\\anaconda3\\lib\\site-packages (from librosa) (0.17.0)\n",
      "Requirement already satisfied: decorator>=4.0.10 in c:\\users\\ril\\anaconda3\\lib\\site-packages (from librosa) (4.4.2)\n",
      "Requirement already satisfied: resampy>=0.2.2 in c:\\users\\ril\\anaconda3\\lib\\site-packages (from librosa) (0.3.1)\n",
      "Requirement already satisfied: soundfile>=0.10.2 in c:\\users\\ril\\anaconda3\\lib\\site-packages (from librosa) (0.11.0)\n",
      "Requirement already satisfied: numpy>=1.17.0 in c:\\users\\ril\\anaconda3\\lib\\site-packages (from librosa) (1.19.5)\n",
      "Requirement already satisfied: llvmlite<0.35,>=0.34.0.dev0 in c:\\users\\ril\\anaconda3\\lib\\site-packages (from numba>=0.45.1->librosa) (0.34.0)\n",
      "Requirement already satisfied: setuptools in c:\\users\\ril\\anaconda3\\lib\\site-packages (from numba>=0.45.1->librosa) (50.3.1.post20201107)\n",
      "Requirement already satisfied: pyparsing!=3.0.5,>=2.0.2 in c:\\users\\ril\\anaconda3\\lib\\site-packages (from packaging>=20.0->librosa) (2.4.7)\n",
      "Requirement already satisfied: requests>=2.19.0 in c:\\users\\ril\\anaconda3\\lib\\site-packages (from pooch>=1.0->librosa) (2.28.1)\n",
      "Requirement already satisfied: appdirs>=1.3.0 in c:\\users\\ril\\anaconda3\\lib\\site-packages (from pooch>=1.0->librosa) (1.4.4)\n",
      "Requirement already satisfied: threadpoolctl>=2.0.0 in c:\\users\\ril\\anaconda3\\lib\\site-packages (from scikit-learn>=0.19.1->librosa) (2.1.0)\n",
      "Requirement already satisfied: cffi>=1.0 in c:\\users\\ril\\anaconda3\\lib\\site-packages (from soundfile>=0.10.2->librosa) (1.14.3)\n",
      "Requirement already satisfied: pycparser in c:\\users\\ril\\anaconda3\\lib\\site-packages (from cffi>=1.0->soundfile>=0.10.2->librosa) (2.20)\n",
      "Requirement already satisfied: charset-normalizer<3,>=2 in c:\\users\\ril\\anaconda3\\lib\\site-packages (from requests>=2.19.0->pooch>=1.0->librosa) (2.1.1)\n",
      "Requirement already satisfied: idna<4,>=2.5 in c:\\users\\ril\\anaconda3\\lib\\site-packages (from requests>=2.19.0->pooch>=1.0->librosa) (2.10)\n",
      "Requirement already satisfied: urllib3<1.27,>=1.21.1 in c:\\users\\ril\\anaconda3\\lib\\site-packages (from requests>=2.19.0->pooch>=1.0->librosa) (1.26.12)\n",
      "Requirement already satisfied: certifi>=2017.4.17 in c:\\users\\ril\\anaconda3\\lib\\site-packages (from requests>=2.19.0->pooch>=1.0->librosa) (2020.6.20)\n"
     ]
    },
    {
     "name": "stderr",
     "output_type": "stream",
     "text": [
      "WARNING: Ignoring invalid distribution -treamlit (c:\\users\\ril\\anaconda3\\lib\\site-packages)\n",
      "WARNING: Ignoring invalid distribution -rotobuf (c:\\users\\ril\\anaconda3\\lib\\site-packages)\n",
      "WARNING: Ignoring invalid distribution -treamlit (c:\\users\\ril\\anaconda3\\lib\\site-packages)\n",
      "WARNING: Ignoring invalid distribution -rotobuf (c:\\users\\ril\\anaconda3\\lib\\site-packages)\n",
      "WARNING: Ignoring invalid distribution -treamlit (c:\\users\\ril\\anaconda3\\lib\\site-packages)\n",
      "WARNING: Ignoring invalid distribution -rotobuf (c:\\users\\ril\\anaconda3\\lib\\site-packages)\n",
      "WARNING: Ignoring invalid distribution -treamlit (c:\\users\\ril\\anaconda3\\lib\\site-packages)\n",
      "WARNING: Ignoring invalid distribution -rotobuf (c:\\users\\ril\\anaconda3\\lib\\site-packages)\n",
      "WARNING: Ignoring invalid distribution -treamlit (c:\\users\\ril\\anaconda3\\lib\\site-packages)\n",
      "WARNING: Ignoring invalid distribution -rotobuf (c:\\users\\ril\\anaconda3\\lib\\site-packages)\n",
      "WARNING: Ignoring invalid distribution -treamlit (c:\\users\\ril\\anaconda3\\lib\\site-packages)\n",
      "WARNING: Ignoring invalid distribution -rotobuf (c:\\users\\ril\\anaconda3\\lib\\site-packages)\n"
     ]
    }
   ],
   "source": [
    "!pip install librosa"
   ]
  },
  {
   "cell_type": "code",
   "execution_count": null,
   "metadata": {},
   "outputs": [],
   "source": [
    "import warnings\n",
    "warnings.filterwarnings('ignore')\n",
    "import pandas as pd\n",
    "import numpy as np\n",
    "import librosa\n",
    "import matplotlib.pyplot as plt\n",
    "\n",
    "import os\n",
    "from PIL import Image\n",
    "from pathlib import Path\n",
    "import csv\n",
    "\n",
    "from sklearn.model_selection import train_test_split\n",
    "from sklearn.preprocessing import LabelEncoder, StandardScaler\n",
    "\n",
    "from sklearn.linear_model import LinearRegression\n",
    "from sklearn.svm import SVC\n",
    "from sklearn.ensemble import RandomForestClassifier\n",
    "\n",
    "import tensorflow\n",
    "import librosa.display\n"
   ]
  },
  {
   "cell_type": "code",
   "execution_count": 83,
   "metadata": {},
   "outputs": [],
   "source": [
    "### Let's read a sample audio using librosa\n",
    "import librosa\n",
    "audio_file_path=\"C:\\\\Users\\\\Krishna\\\\Desktop\\\\Data\\\\genres_original\\\\pop\\\\pop.00008.wav\"\n",
    "librosa_audio_data,librosa_sample_rate=librosa.load(audio_file_path)"
   ]
  },
  {
   "cell_type": "code",
   "execution_count": 84,
   "metadata": {},
   "outputs": [
    {
     "name": "stdout",
     "output_type": "stream",
     "text": [
      "[ 0.4713745   0.42648315  0.41140747 ...  0.03622437 -0.07781982\n",
      " -0.12097168]\n"
     ]
    }
   ],
   "source": [
    "print(librosa_audio_data)"
   ]
  },
  {
   "cell_type": "code",
   "execution_count": 85,
   "metadata": {},
   "outputs": [
    {
     "data": {
      "text/plain": [
       "[<matplotlib.lines.Line2D at 0x17ef44a04f0>]"
      ]
     },
     "execution_count": 85,
     "metadata": {},
     "output_type": "execute_result"
    },
    {
     "data": {
      "image/png": "[encoded data removed]",
      "text/plain": [
       "<Figure size 864x288 with 1 Axes>"
      ]
     },
     "metadata": {
      "needs_background": "light"
     },
     "output_type": "display_data"
    }
   ],
   "source": [
    "### Lets plot the librosa audio data\n",
    "import matplotlib.pyplot as plt\n",
    "# Original audio with 1 channel \n",
    "plt.figure(figsize=(12, 4))\n",
    "plt.plot(librosa_audio_data)"
   ]
  },
  {
   "cell_type": "code",
   "execution_count": 86,
   "metadata": {},
   "outputs": [],
   "source": [
    "### Lets read with scipy\n",
    "from scipy.io import wavfile as wav\n",
    "wave_sample_rate, wave_audio = wav.read(audio_file_path) "
   ]
  },
  {
   "cell_type": "code",
   "execution_count": 87,
   "metadata": {},
   "outputs": [
    {
     "data": {
      "text/plain": [
       "array([15446, 13975, 13481, ...,  1187, -2550, -3964], dtype=int16)"
      ]
     },
     "execution_count": 87,
     "metadata": {},
     "output_type": "execute_result"
    }
   ],
   "source": [
    "wave_audio"
   ]
  },
  {
   "cell_type": "code",
   "execution_count": 88,
   "metadata": {},
   "outputs": [
    {
     "data": {
      "text/plain": [
       "[<matplotlib.lines.Line2D at 0x17ef5483d60>]"
      ]
     },
     "execution_count": 88,
     "metadata": {},
     "output_type": "execute_result"
    },
    {
     "data": {
      "image/png": "[encoded data removed]",
      "text/plain": [
       "<Figure size 864x288 with 1 Axes>"
      ]
     },
     "metadata": {
      "needs_background": "light"
     },
     "output_type": "display_data"
    }
   ],
   "source": [
    "import matplotlib.pyplot as plt\n",
    "\n",
    "# Original audio with 2 channels \n",
    "plt.figure(figsize=(12, 4))\n",
    "plt.plot(wave_audio)"
   ]
  },
  {
   "cell_type": "markdown",
   "metadata": {},
   "source": [
    "Extract Features\n",
    "Here we will be using Mel-Frequency Cepstral Coefficients(MFCC) from the audio samples. The MFCC summarises the frequency distribution across the window size, so it is possible to analyse both the frequency and time characteristics of the sound. These audio representations will allow us to identify features for classification."
   ]
  },
  {
   "cell_type": "code",
   "execution_count": 89,
   "metadata": {},
   "outputs": [
    {
     "name": "stdout",
     "output_type": "stream",
     "text": [
      "(40, 1293)\n"
     ]
    }
   ],
   "source": [
    "mfccs = librosa.feature.mfcc(y=librosa_audio_data, sr=librosa_sample_rate, n_mfcc=40)\n",
    "print(mfccs.shape)"
   ]
  },
  {
   "cell_type": "code",
   "execution_count": 90,
   "metadata": {},
   "outputs": [
    {
     "data": {
      "text/plain": [
       "array([[ -87.287094  , -107.493546  , -147.20073   , ...,    2.3420694 ,\n",
       "           5.916076  ,  -17.794218  ],\n",
       "       [ 109.457184  ,  112.407745  ,  112.40289   , ...,   72.64523   ,\n",
       "          77.70216   ,   88.53114   ],\n",
       "       [  41.413567  ,   70.694916  ,  100.77554   , ...,    2.8402522 ,\n",
       "          -3.3972578 ,   -8.404283  ],\n",
       "       ...,\n",
       "       [  -2.8103182 ,    0.27582973,    2.4309506 , ...,   13.301128  ,\n",
       "          13.27228   ,    9.517978  ],\n",
       "       [  -1.3355885 ,   -3.8714726 ,   -4.5048113 , ...,  -10.768372  ,\n",
       "         -11.339529  ,   -9.362686  ],\n",
       "       [  -1.3285913 ,   -2.8428674 ,   -4.9601016 , ...,  -18.106073  ,\n",
       "         -12.522352  ,   -6.8702393 ]], dtype=float32)"
      ]
     },
     "execution_count": 90,
     "metadata": {},
     "output_type": "execute_result"
    }
   ],
   "source": [
    "mfccs"
   ]
  },
  {
   "cell_type": "code",
   "execution_count": 6,
   "metadata": {},
   "outputs": [],
   "source": [
    "import numpy as np\n",
    "dataset = []\n",
    "genres = {'blues': 0, 'classical': 1, 'country': 2, 'disco': 3, 'hiphop': 4, \n",
    "        'jazz': 5, 'metal': 6, 'pop': 7, 'reggae': 8, 'rock': 9}\n",
    "\n",
    "for genre, genre_number in genres.items():\n",
    "    for filename in os.listdir(f'C:\\\\Users\\\\Krishna\\\\Desktop\\\\Data\\\\genres_original\\\\{genre}'):\n",
    "        songname = f'C:\\\\Users\\\\Krishna\\\\Desktop\\\\Data\\\\genres_original\\\\{genre}\\\\{filename}'\n",
    "        for index in range(14):\n",
    "            audio, sr = librosa.load(songname,res_type='kaiser_test')\n",
    "            mfcc_fea = librosa.feature.mfcc(y=audio, sr=sr, n_mfcc=40)\n",
    "            mfcc_fea_ex=np.mean(mfcc_fea.T,axis=0)\n",
    "            fea_class=genre\n",
    "            dataset.append([mfcc_fea_ex,fea_class] )"
   ]
  },
  {
   "cell_type": "code",
   "execution_count": null,
   "metadata": {},
   "outputs": [],
   "source": []
  },
  {
   "cell_type": "code",
   "execution_count": 7,
   "metadata": {},
   "outputs": [
    {
     "data": {
      "text/html": [
       "<div>\n",
       "<style scoped>\n",
       "    .dataframe tbody tr th:only-of-type {\n",
       "        vertical-align: middle;\n",
       "    }\n",
       "\n",
       "    .dataframe tbody tr th {\n",
       "        vertical-align: top;\n",
       "    }\n",
       "\n",
       "    .dataframe thead th {\n",
       "        text-align: right;\n",
       "    }\n",
       "</style>\n",
       "<table border=\"1\" class=\"dataframe\">\n",
       "  <thead>\n",
       "    <tr style=\"text-align: right;\">\n",
       "      <th></th>\n",
       "      <th>feature</th>\n",
       "      <th>class</th>\n",
       "    </tr>\n",
       "  </thead>\n",
       "  <tbody>\n",
       "    <tr>\n",
       "      <th>0</th>\n",
       "      <td>[-113.59882, 121.57067, -19.162262, 42.36394, ...</td>\n",
       "      <td>blues</td>\n",
       "    </tr>\n",
       "    <tr>\n",
       "      <th>1</th>\n",
       "      <td>[-113.59882, 121.57067, -19.162262, 42.36394, ...</td>\n",
       "      <td>blues</td>\n",
       "    </tr>\n",
       "    <tr>\n",
       "      <th>2</th>\n",
       "      <td>[-113.59882, 121.57067, -19.162262, 42.36394, ...</td>\n",
       "      <td>blues</td>\n",
       "    </tr>\n",
       "    <tr>\n",
       "      <th>3</th>\n",
       "      <td>[-113.59882, 121.57067, -19.162262, 42.36394, ...</td>\n",
       "      <td>blues</td>\n",
       "    </tr>\n",
       "    <tr>\n",
       "      <th>4</th>\n",
       "      <td>[-113.59882, 121.57067, -19.162262, 42.36394, ...</td>\n",
       "      <td>blues</td>\n",
       "    </tr>\n",
       "  </tbody>\n",
       "</table>\n",
       "</div>"
      ],
      "text/plain": [
       "                                             feature  class\n",
       "0  [-113.59882, 121.57067, -19.162262, 42.36394, ...  blues\n",
       "1  [-113.59882, 121.57067, -19.162262, 42.36394, ...  blues\n",
       "2  [-113.59882, 121.57067, -19.162262, 42.36394, ...  blues\n",
       "3  [-113.59882, 121.57067, -19.162262, 42.36394, ...  blues\n",
       "4  [-113.59882, 121.57067, -19.162262, 42.36394, ...  blues"
      ]
     },
     "execution_count": 7,
     "metadata": {},
     "output_type": "execute_result"
    }
   ],
   "source": [
    "import pandas as pd\n",
    "extracted_features_df=pd.DataFrame(dataset,columns=['feature','class'])\n",
    "extracted_features_df.head()\n"
   ]
  },
  {
   "cell_type": "code",
   "execution_count": 56,
   "metadata": {},
   "outputs": [],
   "source": [
    "### Split the dataset into independent and dependent dataset\n",
    "X=np.array(extracted_features_df['feature'].tolist())\n",
    "y=np.array(extracted_features_df['class'].tolist())"
   ]
  },
  {
   "cell_type": "code",
   "execution_count": 57,
   "metadata": {},
   "outputs": [
    {
     "data": {
      "text/plain": [
       "(14000, 40)"
      ]
     },
     "execution_count": 57,
     "metadata": {},
     "output_type": "execute_result"
    }
   ],
   "source": [
    "X.shape"
   ]
  },
  {
   "cell_type": "code",
   "execution_count": 58,
   "metadata": {},
   "outputs": [
    {
     "data": {
      "text/plain": [
       "array(['blues', 'blues', 'blues', ..., 'rock', 'rock', 'rock'],\n",
       "      dtype='<U9')"
      ]
     },
     "execution_count": 58,
     "metadata": {},
     "output_type": "execute_result"
    }
   ],
   "source": [
    "y"
   ]
  },
  {
   "cell_type": "code",
   "execution_count": 59,
   "metadata": {},
   "outputs": [],
   "source": [
    "### Label Encoding\n",
    "###y=np.array(pd.get_dummies(y))\n",
    "### Label Encoder\n",
    "from tensorflow.keras.utils import to_categorical\n",
    "from sklearn.preprocessing import LabelEncoder\n",
    "labelencoder=LabelEncoder()\n",
    "y=to_categorical(labelencoder.fit_transform(y))"
   ]
  },
  {
   "cell_type": "code",
   "execution_count": 60,
   "metadata": {},
   "outputs": [
    {
     "data": {
      "text/plain": [
       "array([[1., 0., 0., ..., 0., 0., 0.],\n",
       "       [1., 0., 0., ..., 0., 0., 0.],\n",
       "       [1., 0., 0., ..., 0., 0., 0.],\n",
       "       ...,\n",
       "       [0., 0., 0., ..., 0., 0., 1.],\n",
       "       [0., 0., 0., ..., 0., 0., 1.],\n",
       "       [0., 0., 0., ..., 0., 0., 1.]], dtype=float32)"
      ]
     },
     "execution_count": 60,
     "metadata": {},
     "output_type": "execute_result"
    }
   ],
   "source": [
    "y"
   ]
  },
  {
   "cell_type": "code",
   "execution_count": 61,
   "metadata": {},
   "outputs": [],
   "source": [
    "### Train Test Split\n",
    "from sklearn.model_selection import train_test_split\n",
    "X_train,X_test,y_train,y_test=train_test_split(X,y,test_size=0.2,random_state=0)\n"
   ]
  },
  {
   "cell_type": "code",
   "execution_count": 62,
   "metadata": {},
   "outputs": [
    {
     "data": {
      "text/plain": [
       "array([[-193.1521    ,   89.18025   ,  -19.990849  , ...,   -0.90498585,\n",
       "          -1.3640039 ,   -5.928955  ],\n",
       "       [ -84.05484   ,   63.09341   ,    5.613019  , ...,   -1.0356138 ,\n",
       "          -1.2826893 ,    0.74032533],\n",
       "       [-201.1977    ,   76.78211   ,  -14.798453  , ...,   -2.1065578 ,\n",
       "          -1.3161548 ,   -2.4045334 ],\n",
       "       ...,\n",
       "       [-125.878746  ,  126.59248   ,  -23.16423   , ...,   -1.461022  ,\n",
       "          -5.207268  ,   -3.2916818 ],\n",
       "       [ -52.5842    ,   37.492367  ,   14.0829    , ...,   -3.1213567 ,\n",
       "          -2.875545  ,   -1.1666998 ],\n",
       "       [-422.54468   ,   89.863014  ,  -18.732948  , ...,   -4.458441  ,\n",
       "          -8.296608  ,   -2.824939  ]], dtype=float32)"
      ]
     },
     "execution_count": 62,
     "metadata": {},
     "output_type": "execute_result"
    }
   ],
   "source": [
    "X_train"
   ]
  },
  {
   "cell_type": "code",
   "execution_count": 63,
   "metadata": {},
   "outputs": [
    {
     "data": {
      "text/plain": [
       "array([[1., 0., 0., ..., 0., 0., 0.],\n",
       "       [1., 0., 0., ..., 0., 0., 0.],\n",
       "       [1., 0., 0., ..., 0., 0., 0.],\n",
       "       ...,\n",
       "       [0., 0., 0., ..., 0., 0., 1.],\n",
       "       [0., 0., 0., ..., 0., 0., 1.],\n",
       "       [0., 0., 0., ..., 0., 0., 1.]], dtype=float32)"
      ]
     },
     "execution_count": 63,
     "metadata": {},
     "output_type": "execute_result"
    }
   ],
   "source": [
    "y"
   ]
  },
  {
   "cell_type": "code",
   "execution_count": 64,
   "metadata": {},
   "outputs": [
    {
     "data": {
      "text/plain": [
       "(11200, 40)"
      ]
     },
     "execution_count": 64,
     "metadata": {},
     "output_type": "execute_result"
    }
   ],
   "source": [
    "X_train.shape"
   ]
  },
  {
   "cell_type": "code",
   "execution_count": 65,
   "metadata": {},
   "outputs": [
    {
     "data": {
      "text/plain": [
       "(2800, 40)"
      ]
     },
     "execution_count": 65,
     "metadata": {},
     "output_type": "execute_result"
    }
   ],
   "source": [
    "X_test.shape"
   ]
  },
  {
   "cell_type": "code",
   "execution_count": 66,
   "metadata": {},
   "outputs": [
    {
     "data": {
      "text/plain": [
       "(11200, 10)"
      ]
     },
     "execution_count": 66,
     "metadata": {},
     "output_type": "execute_result"
    }
   ],
   "source": [
    "y_train.shape"
   ]
  },
  {
   "cell_type": "code",
   "execution_count": 67,
   "metadata": {},
   "outputs": [
    {
     "data": {
      "text/plain": [
       "(2800, 10)"
      ]
     },
     "execution_count": 67,
     "metadata": {},
     "output_type": "execute_result"
    }
   ],
   "source": [
    "y_test.shape"
   ]
  },
  {
   "cell_type": "code",
   "execution_count": 68,
   "metadata": {},
   "outputs": [
    {
     "name": "stdout",
     "output_type": "stream",
     "text": [
      "2.10.0\n"
     ]
    }
   ],
   "source": [
    "import tensorflow as tf\n",
    "print(tf.__version__)"
   ]
  },
  {
   "cell_type": "code",
   "execution_count": 69,
   "metadata": {},
   "outputs": [],
   "source": [
    "from tensorflow.keras.models import Sequential\n",
    "from tensorflow.keras.layers import Dense,Dropout,Activation,Flatten\n",
    "from tensorflow.keras.optimizers import Adam\n",
    "from sklearn import metrics"
   ]
  },
  {
   "cell_type": "code",
   "execution_count": 70,
   "metadata": {},
   "outputs": [],
   "source": [
    "### No of classes\n",
    "num_labels=y.shape[1]"
   ]
  },
  {
   "cell_type": "code",
   "execution_count": 71,
   "metadata": {},
   "outputs": [],
   "source": [
    "model=Sequential()\n",
    "###first layer\n",
    "model.add(Dense(100,input_shape=(40,)))\n",
    "model.add(Activation('relu'))\n",
    "model.add(Dropout(0.5))\n",
    "###second layer\n",
    "model.add(Dense(200))\n",
    "model.add(Activation('relu'))\n",
    "model.add(Dropout(0.5))\n",
    "###third layer\n",
    "model.add(Dense(100))\n",
    "model.add(Activation('relu'))\n",
    "model.add(Dropout(0.5))\n",
    "\n",
    "###final layer\n",
    "model.add(Dense(num_labels))\n",
    "model.add(Activation('softmax'))"
   ]
  },
  {
   "cell_type": "code",
   "execution_count": 72,
   "metadata": {},
   "outputs": [
    {
     "name": "stdout",
     "output_type": "stream",
     "text": [
      "Model: \"sequential_2\"\n",
      "_________________________________________________________________\n",
      " Layer (type)                Output Shape              Param #   \n",
      "=================================================================\n",
      " dense_8 (Dense)             (None, 100)               4100      \n",
      "                                                                 \n",
      " activation_8 (Activation)   (None, 100)               0         \n",
      "                                                                 \n",
      " dropout_6 (Dropout)         (None, 100)               0         \n",
      "                                                                 \n",
      " dense_9 (Dense)             (None, 200)               20200     \n",
      "                                                                 \n",
      " activation_9 (Activation)   (None, 200)               0         \n",
      "                                                                 \n",
      " dropout_7 (Dropout)         (None, 200)               0         \n",
      "                                                                 \n",
      " dense_10 (Dense)            (None, 100)               20100     \n",
      "                                                                 \n",
      " activation_10 (Activation)  (None, 100)               0         \n",
      "                                                                 \n",
      " dropout_8 (Dropout)         (None, 100)               0         \n",
      "                                                                 \n",
      " dense_11 (Dense)            (None, 10)                1010      \n",
      "                                                                 \n",
      " activation_11 (Activation)  (None, 10)                0         \n",
      "                                                                 \n",
      "=================================================================\n",
      "Total params: 45,410\n",
      "Trainable params: 45,410\n",
      "Non-trainable params: 0\n",
      "_________________________________________________________________\n"
     ]
    }
   ],
   "source": [
    "model.summary()"
   ]
  },
  {
   "cell_type": "code",
   "execution_count": 73,
   "metadata": {},
   "outputs": [],
   "source": [
    "model.compile(loss='categorical_crossentropy',metrics=['accuracy'],optimizer='adam')"
   ]
  },
  {
   "cell_type": "code",
   "execution_count": 74,
   "metadata": {},
   "outputs": [
    {
     "name": "stdout",
     "output_type": "stream",
     "text": [
      "Epoch 1/200\n",
      "348/350 [============================>.] - ETA: 0s - loss: 4.9466 - accuracy: 0.1511\n",
      "Epoch 1: val_loss improved from inf to 2.11212, saving model to saved_models\\audio_classification.hdf5\n",
      "350/350 [==============================] - 1s 2ms/step - loss: 4.9320 - accuracy: 0.1515 - val_loss: 2.1121 - val_accuracy: 0.2896\n",
      "Epoch 2/200\n",
      "308/350 [=========================>....] - ETA: 0s - loss: 2.1405 - accuracy: 0.2340\n",
      "Epoch 2: val_loss improved from 2.11212 to 1.83848, saving model to saved_models\\audio_classification.hdf5\n",
      "350/350 [==============================] - 1s 2ms/step - loss: 2.1265 - accuracy: 0.2372 - val_loss: 1.8385 - val_accuracy: 0.3982\n",
      "Epoch 3/200\n",
      "328/350 [===========================>..] - ETA: 0s - loss: 1.9327 - accuracy: 0.3110\n",
      "Epoch 3: val_loss improved from 1.83848 to 1.69024, saving model to saved_models\\audio_classification.hdf5\n",
      "350/350 [==============================] - 1s 2ms/step - loss: 1.9295 - accuracy: 0.3120 - val_loss: 1.6902 - val_accuracy: 0.4439\n",
      "Epoch 4/200\n",
      "331/350 [===========================>..] - ETA: 0s - loss: 1.7693 - accuracy: 0.3655\n",
      "Epoch 4: val_loss improved from 1.69024 to 1.51352, saving model to saved_models\\audio_classification.hdf5\n",
      "350/350 [==============================] - 1s 2ms/step - loss: 1.7662 - accuracy: 0.3679 - val_loss: 1.5135 - val_accuracy: 0.5021\n",
      "Epoch 5/200\n",
      "334/350 [===========================>..] - ETA: 0s - loss: 1.6447 - accuracy: 0.4061\n",
      "Epoch 5: val_loss improved from 1.51352 to 1.41361, saving model to saved_models\\audio_classification.hdf5\n",
      "350/350 [==============================] - 1s 1ms/step - loss: 1.6428 - accuracy: 0.4066 - val_loss: 1.4136 - val_accuracy: 0.5618\n",
      "Epoch 6/200\n",
      "323/350 [==========================>...] - ETA: 0s - loss: 1.5434 - accuracy: 0.4436\n",
      "Epoch 6: val_loss improved from 1.41361 to 1.25154, saving model to saved_models\\audio_classification.hdf5\n",
      "350/350 [==============================] - 1s 2ms/step - loss: 1.5408 - accuracy: 0.4445 - val_loss: 1.2515 - val_accuracy: 0.6029\n",
      "Epoch 7/200\n",
      "342/350 [============================>.] - ETA: 0s - loss: 1.4646 - accuracy: 0.4764\n",
      "Epoch 7: val_loss improved from 1.25154 to 1.19705, saving model to saved_models\\audio_classification.hdf5\n",
      "350/350 [==============================] - 1s 2ms/step - loss: 1.4655 - accuracy: 0.4757 - val_loss: 1.1970 - val_accuracy: 0.6407\n",
      "Epoch 8/200\n",
      "336/350 [===========================>..] - ETA: 0s - loss: 1.3845 - accuracy: 0.5049\n",
      "Epoch 8: val_loss improved from 1.19705 to 1.04829, saving model to saved_models\\audio_classification.hdf5\n",
      "350/350 [==============================] - 1s 2ms/step - loss: 1.3797 - accuracy: 0.5071 - val_loss: 1.0483 - val_accuracy: 0.6489\n",
      "Epoch 9/200\n",
      "310/350 [=========================>....] - ETA: 0s - loss: 1.3133 - accuracy: 0.5257\n",
      "Epoch 9: val_loss improved from 1.04829 to 0.97461, saving model to saved_models\\audio_classification.hdf5\n",
      "350/350 [==============================] - 0s 1ms/step - loss: 1.3040 - accuracy: 0.5302 - val_loss: 0.9746 - val_accuracy: 0.6929\n",
      "Epoch 10/200\n",
      "304/350 [=========================>....] - ETA: 0s - loss: 1.2493 - accuracy: 0.5454\n",
      "Epoch 10: val_loss improved from 0.97461 to 0.92055, saving model to saved_models\\audio_classification.hdf5\n",
      "350/350 [==============================] - 1s 2ms/step - loss: 1.2458 - accuracy: 0.5479 - val_loss: 0.9205 - val_accuracy: 0.7068\n",
      "Epoch 11/200\n",
      "341/350 [============================>.] - ETA: 0s - loss: 1.1796 - accuracy: 0.5814\n",
      "Epoch 11: val_loss improved from 0.92055 to 0.85712, saving model to saved_models\\audio_classification.hdf5\n",
      "350/350 [==============================] - 1s 2ms/step - loss: 1.1799 - accuracy: 0.5817 - val_loss: 0.8571 - val_accuracy: 0.7393\n",
      "Epoch 12/200\n",
      "344/350 [============================>.] - ETA: 0s - loss: 1.1299 - accuracy: 0.5935\n",
      "Epoch 12: val_loss improved from 0.85712 to 0.80841, saving model to saved_models\\audio_classification.hdf5\n",
      "350/350 [==============================] - 0s 1ms/step - loss: 1.1281 - accuracy: 0.5953 - val_loss: 0.8084 - val_accuracy: 0.7550\n",
      "Epoch 13/200\n",
      "295/350 [========================>.....] - ETA: 0s - loss: 1.0673 - accuracy: 0.6130\n",
      "Epoch 13: val_loss improved from 0.80841 to 0.76034, saving model to saved_models\\audio_classification.hdf5\n",
      "350/350 [==============================] - 0s 1ms/step - loss: 1.0664 - accuracy: 0.6156 - val_loss: 0.7603 - val_accuracy: 0.7539\n",
      "Epoch 14/200\n",
      "297/350 [========================>.....] - ETA: 0s - loss: 1.0409 - accuracy: 0.6255\n",
      "Epoch 14: val_loss improved from 0.76034 to 0.70168, saving model to saved_models\\audio_classification.hdf5\n",
      "350/350 [==============================] - 0s 1ms/step - loss: 1.0351 - accuracy: 0.6284 - val_loss: 0.7017 - val_accuracy: 0.7861\n",
      "Epoch 15/200\n",
      "300/350 [========================>.....] - ETA: 0s - loss: 0.9893 - accuracy: 0.6427\n",
      "Epoch 15: val_loss improved from 0.70168 to 0.65026, saving model to saved_models\\audio_classification.hdf5\n",
      "350/350 [==============================] - 0s 1ms/step - loss: 0.9858 - accuracy: 0.6435 - val_loss: 0.6503 - val_accuracy: 0.8079\n",
      "Epoch 16/200\n",
      "326/350 [==========================>...] - ETA: 0s - loss: 0.9540 - accuracy: 0.6538\n",
      "Epoch 16: val_loss improved from 0.65026 to 0.61510, saving model to saved_models\\audio_classification.hdf5\n",
      "350/350 [==============================] - 1s 2ms/step - loss: 0.9547 - accuracy: 0.6538 - val_loss: 0.6151 - val_accuracy: 0.8204\n",
      "Epoch 17/200\n",
      "312/350 [=========================>....] - ETA: 0s - loss: 0.9330 - accuracy: 0.6576\n",
      "Epoch 17: val_loss improved from 0.61510 to 0.60921, saving model to saved_models\\audio_classification.hdf5\n",
      "350/350 [==============================] - 1s 2ms/step - loss: 0.9343 - accuracy: 0.6579 - val_loss: 0.6092 - val_accuracy: 0.8136\n",
      "Epoch 18/200\n",
      "293/350 [========================>.....] - ETA: 0s - loss: 0.8955 - accuracy: 0.6769\n",
      "Epoch 18: val_loss improved from 0.60921 to 0.58704, saving model to saved_models\\audio_classification.hdf5\n",
      "350/350 [==============================] - 0s 1ms/step - loss: 0.8926 - accuracy: 0.6779 - val_loss: 0.5870 - val_accuracy: 0.8386\n",
      "Epoch 19/200\n",
      "349/350 [============================>.] - ETA: 0s - loss: 0.8712 - accuracy: 0.6867\n",
      "Epoch 19: val_loss improved from 0.58704 to 0.57000, saving model to saved_models\\audio_classification.hdf5\n",
      "350/350 [==============================] - 0s 1ms/step - loss: 0.8715 - accuracy: 0.6862 - val_loss: 0.5700 - val_accuracy: 0.8332\n",
      "Epoch 20/200\n",
      "335/350 [===========================>..] - ETA: 0s - loss: 0.8537 - accuracy: 0.6939\n",
      "Epoch 20: val_loss improved from 0.57000 to 0.51259, saving model to saved_models\\audio_classification.hdf5\n",
      "350/350 [==============================] - 0s 1ms/step - loss: 0.8533 - accuracy: 0.6941 - val_loss: 0.5126 - val_accuracy: 0.8564\n",
      "Epoch 21/200\n",
      "329/350 [===========================>..] - ETA: 0s - loss: 0.8362 - accuracy: 0.6970\n",
      "Epoch 21: val_loss improved from 0.51259 to 0.50979, saving model to saved_models\\audio_classification.hdf5\n",
      "350/350 [==============================] - 0s 1ms/step - loss: 0.8360 - accuracy: 0.6977 - val_loss: 0.5098 - val_accuracy: 0.8468\n",
      "Epoch 22/200\n",
      "312/350 [=========================>....] - ETA: 0s - loss: 0.8082 - accuracy: 0.7062\n",
      "Epoch 22: val_loss improved from 0.50979 to 0.49221, saving model to saved_models\\audio_classification.hdf5\n",
      "350/350 [==============================] - 0s 1ms/step - loss: 0.8086 - accuracy: 0.7081 - val_loss: 0.4922 - val_accuracy: 0.8500\n",
      "Epoch 23/200\n",
      "319/350 [==========================>...] - ETA: 0s - loss: 0.7815 - accuracy: 0.7213\n",
      "Epoch 23: val_loss improved from 0.49221 to 0.47381, saving model to saved_models\\audio_classification.hdf5\n",
      "350/350 [==============================] - 1s 2ms/step - loss: 0.7864 - accuracy: 0.7201 - val_loss: 0.4738 - val_accuracy: 0.8604\n",
      "Epoch 24/200\n",
      "318/350 [==========================>...] - ETA: 0s - loss: 0.7672 - accuracy: 0.7190\n",
      "Epoch 24: val_loss improved from 0.47381 to 0.44363, saving model to saved_models\\audio_classification.hdf5\n",
      "350/350 [==============================] - 1s 2ms/step - loss: 0.7700 - accuracy: 0.7201 - val_loss: 0.4436 - val_accuracy: 0.8871\n",
      "Epoch 25/200\n",
      "314/350 [=========================>....] - ETA: 0s - loss: 0.7479 - accuracy: 0.7315\n",
      "Epoch 25: val_loss improved from 0.44363 to 0.42581, saving model to saved_models\\audio_classification.hdf5\n",
      "350/350 [==============================] - 1s 2ms/step - loss: 0.7422 - accuracy: 0.7339 - val_loss: 0.4258 - val_accuracy: 0.8839\n",
      "Epoch 26/200\n",
      "321/350 [==========================>...] - ETA: 0s - loss: 0.7442 - accuracy: 0.7313\n",
      "Epoch 26: val_loss improved from 0.42581 to 0.39714, saving model to saved_models\\audio_classification.hdf5\n",
      "350/350 [==============================] - 0s 1ms/step - loss: 0.7396 - accuracy: 0.7331 - val_loss: 0.3971 - val_accuracy: 0.8918\n",
      "Epoch 27/200\n",
      "314/350 [=========================>....] - ETA: 0s - loss: 0.7269 - accuracy: 0.7437\n",
      "Epoch 27: val_loss did not improve from 0.39714\n",
      "350/350 [==============================] - 0s 1ms/step - loss: 0.7218 - accuracy: 0.7454 - val_loss: 0.4034 - val_accuracy: 0.8836\n",
      "Epoch 28/200\n",
      "341/350 [============================>.] - ETA: 0s - loss: 0.7406 - accuracy: 0.7383\n",
      "Epoch 28: val_loss did not improve from 0.39714\n",
      "350/350 [==============================] - 1s 1ms/step - loss: 0.7402 - accuracy: 0.7379 - val_loss: 0.4048 - val_accuracy: 0.8936\n",
      "Epoch 29/200\n",
      "310/350 [=========================>....] - ETA: 0s - loss: 0.7293 - accuracy: 0.7395\n",
      "Epoch 29: val_loss did not improve from 0.39714\n",
      "350/350 [==============================] - 0s 1ms/step - loss: 0.7257 - accuracy: 0.7404 - val_loss: 0.4050 - val_accuracy: 0.8868\n",
      "Epoch 30/200\n",
      "321/350 [==========================>...] - ETA: 0s - loss: 0.6838 - accuracy: 0.7567\n",
      "Epoch 30: val_loss improved from 0.39714 to 0.36730, saving model to saved_models\\audio_classification.hdf5\n",
      "350/350 [==============================] - 0s 1ms/step - loss: 0.6818 - accuracy: 0.7570 - val_loss: 0.3673 - val_accuracy: 0.8957\n",
      "Epoch 31/200\n",
      "320/350 [==========================>...] - ETA: 0s - loss: 0.7001 - accuracy: 0.7462\n",
      "Epoch 31: val_loss did not improve from 0.36730\n",
      "350/350 [==============================] - 0s 1ms/step - loss: 0.7029 - accuracy: 0.7456 - val_loss: 0.3705 - val_accuracy: 0.8986\n",
      "Epoch 32/200\n",
      "344/350 [============================>.] - ETA: 0s - loss: 0.7019 - accuracy: 0.7507\n",
      "Epoch 32: val_loss improved from 0.36730 to 0.36175, saving model to saved_models\\audio_classification.hdf5\n",
      "350/350 [==============================] - 0s 1ms/step - loss: 0.7031 - accuracy: 0.7504 - val_loss: 0.3617 - val_accuracy: 0.9086\n",
      "Epoch 33/200\n",
      "329/350 [===========================>..] - ETA: 0s - loss: 0.6850 - accuracy: 0.7580\n",
      "Epoch 33: val_loss improved from 0.36175 to 0.34826, saving model to saved_models\\audio_classification.hdf5\n",
      "350/350 [==============================] - 0s 1ms/step - loss: 0.6843 - accuracy: 0.7578 - val_loss: 0.3483 - val_accuracy: 0.9114\n",
      "Epoch 34/200\n",
      "318/350 [==========================>...] - ETA: 0s - loss: 0.6576 - accuracy: 0.7611\n",
      "Epoch 34: val_loss improved from 0.34826 to 0.33361, saving model to saved_models\\audio_classification.hdf5\n",
      "350/350 [==============================] - 0s 1ms/step - loss: 0.6559 - accuracy: 0.7623 - val_loss: 0.3336 - val_accuracy: 0.9196\n",
      "Epoch 35/200\n",
      "313/350 [=========================>....] - ETA: 0s - loss: 0.6637 - accuracy: 0.7685\n",
      "Epoch 35: val_loss did not improve from 0.33361\n",
      "350/350 [==============================] - 0s 1ms/step - loss: 0.6688 - accuracy: 0.7671 - val_loss: 0.3456 - val_accuracy: 0.8900\n",
      "Epoch 36/200\n",
      "313/350 [=========================>....] - ETA: 0s - loss: 0.6555 - accuracy: 0.7611\n",
      "Epoch 36: val_loss did not improve from 0.33361\n",
      "350/350 [==============================] - 0s 1ms/step - loss: 0.6542 - accuracy: 0.7618 - val_loss: 0.3415 - val_accuracy: 0.9064\n",
      "Epoch 37/200\n",
      "316/350 [==========================>...] - ETA: 0s - loss: 0.6563 - accuracy: 0.7676\n",
      "Epoch 37: val_loss improved from 0.33361 to 0.32776, saving model to saved_models\\audio_classification.hdf5\n",
      "350/350 [==============================] - 0s 1ms/step - loss: 0.6613 - accuracy: 0.7667 - val_loss: 0.3278 - val_accuracy: 0.9093\n",
      "Epoch 38/200\n",
      "318/350 [==========================>...] - ETA: 0s - loss: 0.6639 - accuracy: 0.7642\n",
      "Epoch 38: val_loss did not improve from 0.32776\n",
      "350/350 [==============================] - 0s 1ms/step - loss: 0.6633 - accuracy: 0.7638 - val_loss: 0.3530 - val_accuracy: 0.9157\n",
      "Epoch 39/200\n",
      "319/350 [==========================>...] - ETA: 0s - loss: 0.6531 - accuracy: 0.7688\n",
      "Epoch 39: val_loss improved from 0.32776 to 0.31588, saving model to saved_models\\audio_classification.hdf5\n",
      "350/350 [==============================] - 0s 1ms/step - loss: 0.6542 - accuracy: 0.7674 - val_loss: 0.3159 - val_accuracy: 0.9193\n",
      "Epoch 40/200\n",
      "315/350 [==========================>...] - ETA: 0s - loss: 0.6244 - accuracy: 0.7771\n",
      "Epoch 40: val_loss improved from 0.31588 to 0.29870, saving model to saved_models\\audio_classification.hdf5\n",
      "350/350 [==============================] - 0s 1ms/step - loss: 0.6234 - accuracy: 0.7780 - val_loss: 0.2987 - val_accuracy: 0.9179\n",
      "Epoch 41/200\n",
      "319/350 [==========================>...] - ETA: 0s - loss: 0.6510 - accuracy: 0.7690\n",
      "Epoch 41: val_loss did not improve from 0.29870\n",
      "350/350 [==============================] - 0s 1ms/step - loss: 0.6452 - accuracy: 0.7710 - val_loss: 0.3302 - val_accuracy: 0.9054\n",
      "Epoch 42/200\n",
      "326/350 [==========================>...] - ETA: 0s - loss: 0.6293 - accuracy: 0.7737\n",
      "Epoch 42: val_loss did not improve from 0.29870\n",
      "350/350 [==============================] - 0s 1ms/step - loss: 0.6279 - accuracy: 0.7744 - val_loss: 0.3255 - val_accuracy: 0.9079\n",
      "Epoch 43/200\n",
      "326/350 [==========================>...] - ETA: 0s - loss: 0.5919 - accuracy: 0.7873\n",
      "Epoch 43: val_loss improved from 0.29870 to 0.26459, saving model to saved_models\\audio_classification.hdf5\n",
      "350/350 [==============================] - 0s 1ms/step - loss: 0.5942 - accuracy: 0.7869 - val_loss: 0.2646 - val_accuracy: 0.9232\n",
      "Epoch 44/200\n",
      "323/350 [==========================>...] - ETA: 0s - loss: 0.6294 - accuracy: 0.7767\n",
      "Epoch 44: val_loss did not improve from 0.26459\n",
      "350/350 [==============================] - 0s 1ms/step - loss: 0.6328 - accuracy: 0.7755 - val_loss: 0.2889 - val_accuracy: 0.9182\n",
      "Epoch 45/200\n",
      "320/350 [==========================>...] - ETA: 0s - loss: 0.6283 - accuracy: 0.7787\n",
      "Epoch 45: val_loss did not improve from 0.26459\n",
      "350/350 [==============================] - 0s 1ms/step - loss: 0.6242 - accuracy: 0.7788 - val_loss: 0.3176 - val_accuracy: 0.9154\n",
      "Epoch 46/200\n",
      "329/350 [===========================>..] - ETA: 0s - loss: 0.6135 - accuracy: 0.7796\n",
      "Epoch 46: val_loss did not improve from 0.26459\n",
      "350/350 [==============================] - 0s 1ms/step - loss: 0.6130 - accuracy: 0.7806 - val_loss: 0.3090 - val_accuracy: 0.9118\n",
      "Epoch 47/200\n",
      "323/350 [==========================>...] - ETA: 0s - loss: 0.6006 - accuracy: 0.7842\n",
      "Epoch 47: val_loss did not improve from 0.26459\n",
      "350/350 [==============================] - 0s 1ms/step - loss: 0.6039 - accuracy: 0.7833 - val_loss: 0.2942 - val_accuracy: 0.9136\n",
      "Epoch 48/200\n",
      "348/350 [============================>.] - ETA: 0s - loss: 0.6210 - accuracy: 0.7814\n",
      "Epoch 48: val_loss did not improve from 0.26459\n",
      "350/350 [==============================] - 0s 1ms/step - loss: 0.6210 - accuracy: 0.7813 - val_loss: 0.2932 - val_accuracy: 0.9214\n",
      "Epoch 49/200\n",
      "327/350 [===========================>..] - ETA: 0s - loss: 0.6232 - accuracy: 0.7806\n",
      "Epoch 49: val_loss did not improve from 0.26459\n",
      "350/350 [==============================] - 0s 1ms/step - loss: 0.6198 - accuracy: 0.7809 - val_loss: 0.3100 - val_accuracy: 0.9118\n",
      "Epoch 50/200\n",
      "299/350 [========================>.....] - ETA: 0s - loss: 0.5836 - accuracy: 0.7925\n",
      "Epoch 50: val_loss did not improve from 0.26459\n",
      "350/350 [==============================] - 0s 1ms/step - loss: 0.5874 - accuracy: 0.7925 - val_loss: 0.2696 - val_accuracy: 0.9179\n",
      "Epoch 51/200\n",
      "328/350 [===========================>..] - ETA: 0s - loss: 0.5886 - accuracy: 0.7908\n",
      "Epoch 51: val_loss did not improve from 0.26459\n",
      "350/350 [==============================] - 0s 1ms/step - loss: 0.5925 - accuracy: 0.7890 - val_loss: 0.2777 - val_accuracy: 0.9189\n",
      "Epoch 52/200\n",
      "324/350 [==========================>...] - ETA: 0s - loss: 0.6117 - accuracy: 0.7857\n",
      "Epoch 52: val_loss improved from 0.26459 to 0.24269, saving model to saved_models\\audio_classification.hdf5\n",
      "350/350 [==============================] - 0s 1ms/step - loss: 0.6066 - accuracy: 0.7873 - val_loss: 0.2427 - val_accuracy: 0.9325\n",
      "Epoch 53/200\n",
      "328/350 [===========================>..] - ETA: 0s - loss: 0.5856 - accuracy: 0.7873\n",
      "Epoch 53: val_loss did not improve from 0.24269\n",
      "350/350 [==============================] - 0s 1ms/step - loss: 0.5860 - accuracy: 0.7865 - val_loss: 0.2445 - val_accuracy: 0.9332\n",
      "Epoch 54/200\n",
      "326/350 [==========================>...] - ETA: 0s - loss: 0.5934 - accuracy: 0.7896\n",
      "Epoch 54: val_loss did not improve from 0.24269\n",
      "350/350 [==============================] - 0s 1ms/step - loss: 0.5883 - accuracy: 0.7916 - val_loss: 0.2497 - val_accuracy: 0.9304\n",
      "Epoch 55/200\n",
      "321/350 [==========================>...] - ETA: 0s - loss: 0.5847 - accuracy: 0.7924\n",
      "Epoch 55: val_loss did not improve from 0.24269\n",
      "350/350 [==============================] - 0s 1ms/step - loss: 0.5854 - accuracy: 0.7925 - val_loss: 0.2617 - val_accuracy: 0.9300\n",
      "Epoch 56/200\n",
      "321/350 [==========================>...] - ETA: 0s - loss: 0.5876 - accuracy: 0.7886\n",
      "Epoch 56: val_loss did not improve from 0.24269\n",
      "350/350 [==============================] - 0s 1ms/step - loss: 0.5862 - accuracy: 0.7903 - val_loss: 0.2469 - val_accuracy: 0.9336\n",
      "Epoch 57/200\n",
      "335/350 [===========================>..] - ETA: 0s - loss: 0.5738 - accuracy: 0.7958\n",
      "Epoch 57: val_loss did not improve from 0.24269\n",
      "350/350 [==============================] - 0s 1ms/step - loss: 0.5755 - accuracy: 0.7967 - val_loss: 0.2583 - val_accuracy: 0.9200\n",
      "Epoch 58/200\n",
      "323/350 [==========================>...] - ETA: 0s - loss: 0.5862 - accuracy: 0.7936\n",
      "Epoch 58: val_loss did not improve from 0.24269\n",
      "350/350 [==============================] - 0s 1ms/step - loss: 0.5877 - accuracy: 0.7937 - val_loss: 0.2451 - val_accuracy: 0.9300\n",
      "Epoch 59/200\n",
      "317/350 [==========================>...] - ETA: 0s - loss: 0.5840 - accuracy: 0.7982\n",
      "Epoch 59: val_loss improved from 0.24269 to 0.21344, saving model to saved_models\\audio_classification.hdf5\n",
      "350/350 [==============================] - 0s 1ms/step - loss: 0.5807 - accuracy: 0.7986 - val_loss: 0.2134 - val_accuracy: 0.9518\n",
      "Epoch 60/200\n",
      "318/350 [==========================>...] - ETA: 0s - loss: 0.5808 - accuracy: 0.7984\n",
      "Epoch 60: val_loss did not improve from 0.21344\n",
      "350/350 [==============================] - 0s 1ms/step - loss: 0.5828 - accuracy: 0.7987 - val_loss: 0.2662 - val_accuracy: 0.9329\n",
      "Epoch 61/200\n",
      "322/350 [==========================>...] - ETA: 0s - loss: 0.5554 - accuracy: 0.8054\n",
      "Epoch 61: val_loss did not improve from 0.21344\n",
      "350/350 [==============================] - 0s 1ms/step - loss: 0.5522 - accuracy: 0.8061 - val_loss: 0.2409 - val_accuracy: 0.9379\n",
      "Epoch 62/200\n",
      "323/350 [==========================>...] - ETA: 0s - loss: 0.5644 - accuracy: 0.8005\n",
      "Epoch 62: val_loss did not improve from 0.21344\n",
      "350/350 [==============================] - 0s 1ms/step - loss: 0.5614 - accuracy: 0.8025 - val_loss: 0.2235 - val_accuracy: 0.9400\n",
      "Epoch 63/200\n",
      "329/350 [===========================>..] - ETA: 0s - loss: 0.5925 - accuracy: 0.7927\n",
      "Epoch 63: val_loss did not improve from 0.21344\n",
      "350/350 [==============================] - 0s 1ms/step - loss: 0.5953 - accuracy: 0.7908 - val_loss: 0.2382 - val_accuracy: 0.9400\n",
      "Epoch 64/200\n",
      "321/350 [==========================>...] - ETA: 0s - loss: 0.5629 - accuracy: 0.8050\n",
      "Epoch 64: val_loss did not improve from 0.21344\n",
      "350/350 [==============================] - 0s 1ms/step - loss: 0.5603 - accuracy: 0.8063 - val_loss: 0.2349 - val_accuracy: 0.9414\n",
      "Epoch 65/200\n",
      "326/350 [==========================>...] - ETA: 0s - loss: 0.5699 - accuracy: 0.8010\n",
      "Epoch 65: val_loss did not improve from 0.21344\n",
      "350/350 [==============================] - 0s 1ms/step - loss: 0.5708 - accuracy: 0.8021 - val_loss: 0.2306 - val_accuracy: 0.9436\n",
      "Epoch 66/200\n",
      "328/350 [===========================>..] - ETA: 0s - loss: 0.5456 - accuracy: 0.8055\n",
      "Epoch 66: val_loss did not improve from 0.21344\n",
      "350/350 [==============================] - 0s 1ms/step - loss: 0.5477 - accuracy: 0.8055 - val_loss: 0.2341 - val_accuracy: 0.9307\n",
      "Epoch 67/200\n",
      "330/350 [===========================>..] - ETA: 0s - loss: 0.5413 - accuracy: 0.8083\n",
      "Epoch 67: val_loss improved from 0.21344 to 0.20231, saving model to saved_models\\audio_classification.hdf5\n",
      "350/350 [==============================] - 0s 1ms/step - loss: 0.5395 - accuracy: 0.8095 - val_loss: 0.2023 - val_accuracy: 0.9418\n",
      "Epoch 68/200\n",
      "309/350 [=========================>....] - ETA: 0s - loss: 0.5458 - accuracy: 0.8070\n",
      "Epoch 68: val_loss did not improve from 0.20231\n",
      "350/350 [==============================] - 0s 1ms/step - loss: 0.5444 - accuracy: 0.8076 - val_loss: 0.2289 - val_accuracy: 0.9368\n",
      "Epoch 69/200\n",
      "337/350 [===========================>..] - ETA: 0s - loss: 0.5585 - accuracy: 0.8076\n",
      "Epoch 69: val_loss did not improve from 0.20231\n",
      "350/350 [==============================] - 0s 1ms/step - loss: 0.5578 - accuracy: 0.8076 - val_loss: 0.2095 - val_accuracy: 0.9364\n",
      "Epoch 70/200\n",
      "324/350 [==========================>...] - ETA: 0s - loss: 0.5218 - accuracy: 0.8185\n",
      "Epoch 70: val_loss improved from 0.20231 to 0.19806, saving model to saved_models\\audio_classification.hdf5\n",
      "350/350 [==============================] - 0s 1ms/step - loss: 0.5239 - accuracy: 0.8171 - val_loss: 0.1981 - val_accuracy: 0.9432\n",
      "Epoch 71/200\n",
      "316/350 [==========================>...] - ETA: 0s - loss: 0.5574 - accuracy: 0.8044\n",
      "Epoch 71: val_loss did not improve from 0.19806\n",
      "350/350 [==============================] - 0s 1ms/step - loss: 0.5532 - accuracy: 0.8069 - val_loss: 0.2128 - val_accuracy: 0.9379\n",
      "Epoch 72/200\n",
      "333/350 [===========================>..] - ETA: 0s - loss: 0.5341 - accuracy: 0.8142\n",
      "Epoch 72: val_loss did not improve from 0.19806\n",
      "350/350 [==============================] - 0s 1ms/step - loss: 0.5350 - accuracy: 0.8138 - val_loss: 0.2020 - val_accuracy: 0.9454\n",
      "Epoch 73/200\n",
      "320/350 [==========================>...] - ETA: 0s - loss: 0.5518 - accuracy: 0.8081\n",
      "Epoch 73: val_loss improved from 0.19806 to 0.19620, saving model to saved_models\\audio_classification.hdf5\n",
      "350/350 [==============================] - 0s 1ms/step - loss: 0.5474 - accuracy: 0.8096 - val_loss: 0.1962 - val_accuracy: 0.9425\n",
      "Epoch 74/200\n",
      "317/350 [==========================>...] - ETA: 0s - loss: 0.5384 - accuracy: 0.8123\n",
      "Epoch 74: val_loss did not improve from 0.19620\n",
      "350/350 [==============================] - 0s 1ms/step - loss: 0.5390 - accuracy: 0.8123 - val_loss: 0.2152 - val_accuracy: 0.9432\n",
      "Epoch 75/200\n",
      "323/350 [==========================>...] - ETA: 0s - loss: 0.5513 - accuracy: 0.8063\n",
      "Epoch 75: val_loss did not improve from 0.19620\n",
      "350/350 [==============================] - 0s 1ms/step - loss: 0.5512 - accuracy: 0.8071 - val_loss: 0.2057 - val_accuracy: 0.9475\n",
      "Epoch 76/200\n",
      "321/350 [==========================>...] - ETA: 0s - loss: 0.5272 - accuracy: 0.8146\n",
      "Epoch 76: val_loss did not improve from 0.19620\n",
      "350/350 [==============================] - 0s 1ms/step - loss: 0.5284 - accuracy: 0.8138 - val_loss: 0.2057 - val_accuracy: 0.9454\n",
      "Epoch 77/200\n",
      "310/350 [=========================>....] - ETA: 0s - loss: 0.5243 - accuracy: 0.8155\n",
      "Epoch 77: val_loss did not improve from 0.19620\n",
      "350/350 [==============================] - 0s 1ms/step - loss: 0.5245 - accuracy: 0.8149 - val_loss: 0.2147 - val_accuracy: 0.9343\n",
      "Epoch 78/200\n",
      "324/350 [==========================>...] - ETA: 0s - loss: 0.5304 - accuracy: 0.8209\n",
      "Epoch 78: val_loss did not improve from 0.19620\n",
      "350/350 [==============================] - 0s 1ms/step - loss: 0.5286 - accuracy: 0.8209 - val_loss: 0.2095 - val_accuracy: 0.9461\n",
      "Epoch 79/200\n",
      "293/350 [========================>.....] - ETA: 0s - loss: 0.5342 - accuracy: 0.8145\n",
      "Epoch 79: val_loss did not improve from 0.19620\n",
      "350/350 [==============================] - 0s 1ms/step - loss: 0.5319 - accuracy: 0.8155 - val_loss: 0.2183 - val_accuracy: 0.9364\n",
      "Epoch 80/200\n",
      "320/350 [==========================>...] - ETA: 0s - loss: 0.5262 - accuracy: 0.8196\n",
      "Epoch 80: val_loss did not improve from 0.19620\n",
      "350/350 [==============================] - 0s 1ms/step - loss: 0.5274 - accuracy: 0.8189 - val_loss: 0.1982 - val_accuracy: 0.9561\n",
      "Epoch 81/200\n",
      "312/350 [=========================>....] - ETA: 0s - loss: 0.5441 - accuracy: 0.8150\n",
      "Epoch 81: val_loss did not improve from 0.19620\n",
      "350/350 [==============================] - 0s 1ms/step - loss: 0.5493 - accuracy: 0.8145 - val_loss: 0.2011 - val_accuracy: 0.9504\n",
      "Epoch 82/200\n",
      "317/350 [==========================>...] - ETA: 0s - loss: 0.5311 - accuracy: 0.8160\n",
      "Epoch 82: val_loss improved from 0.19620 to 0.18994, saving model to saved_models\\audio_classification.hdf5\n",
      "350/350 [==============================] - 0s 1ms/step - loss: 0.5401 - accuracy: 0.8123 - val_loss: 0.1899 - val_accuracy: 0.9446\n",
      "Epoch 83/200\n",
      "324/350 [==========================>...] - ETA: 0s - loss: 0.5095 - accuracy: 0.8217\n",
      "Epoch 83: val_loss improved from 0.18994 to 0.18692, saving model to saved_models\\audio_classification.hdf5\n",
      "350/350 [==============================] - 0s 1ms/step - loss: 0.5048 - accuracy: 0.8238 - val_loss: 0.1869 - val_accuracy: 0.9468\n",
      "Epoch 84/200\n",
      "323/350 [==========================>...] - ETA: 0s - loss: 0.5295 - accuracy: 0.8176\n",
      "Epoch 84: val_loss did not improve from 0.18692\n",
      "350/350 [==============================] - 0s 1ms/step - loss: 0.5346 - accuracy: 0.8168 - val_loss: 0.1937 - val_accuracy: 0.9596\n",
      "Epoch 85/200\n",
      "322/350 [==========================>...] - ETA: 0s - loss: 0.5154 - accuracy: 0.8187\n",
      "Epoch 85: val_loss did not improve from 0.18692\n",
      "350/350 [==============================] - 0s 1ms/step - loss: 0.5143 - accuracy: 0.8179 - val_loss: 0.1989 - val_accuracy: 0.9475\n",
      "Epoch 86/200\n",
      "300/350 [========================>.....] - ETA: 0s - loss: 0.5291 - accuracy: 0.8112\n",
      "Epoch 86: val_loss did not improve from 0.18692\n",
      "350/350 [==============================] - 0s 1ms/step - loss: 0.5340 - accuracy: 0.8111 - val_loss: 0.2156 - val_accuracy: 0.9382\n",
      "Epoch 87/200\n",
      "346/350 [============================>.] - ETA: 0s - loss: 0.5220 - accuracy: 0.8169\n",
      "Epoch 87: val_loss did not improve from 0.18692\n",
      "350/350 [==============================] - 0s 1ms/step - loss: 0.5218 - accuracy: 0.8166 - val_loss: 0.2129 - val_accuracy: 0.9307\n",
      "Epoch 88/200\n",
      "320/350 [==========================>...] - ETA: 0s - loss: 0.5212 - accuracy: 0.8174\n",
      "Epoch 88: val_loss improved from 0.18692 to 0.17464, saving model to saved_models\\audio_classification.hdf5\n",
      "350/350 [==============================] - 0s 1ms/step - loss: 0.5194 - accuracy: 0.8180 - val_loss: 0.1746 - val_accuracy: 0.9464\n",
      "Epoch 89/200\n",
      "319/350 [==========================>...] - ETA: 0s - loss: 0.5268 - accuracy: 0.8209\n",
      "Epoch 89: val_loss did not improve from 0.17464\n",
      "350/350 [==============================] - 0s 1ms/step - loss: 0.5265 - accuracy: 0.8198 - val_loss: 0.1826 - val_accuracy: 0.9557\n",
      "Epoch 90/200\n",
      "332/350 [===========================>..] - ETA: 0s - loss: 0.5294 - accuracy: 0.8189\n",
      "Epoch 90: val_loss did not improve from 0.17464\n",
      "350/350 [==============================] - 0s 1ms/step - loss: 0.5281 - accuracy: 0.8180 - val_loss: 0.1833 - val_accuracy: 0.9464\n",
      "Epoch 91/200\n",
      "336/350 [===========================>..] - ETA: 0s - loss: 0.4976 - accuracy: 0.8275\n",
      "Epoch 91: val_loss did not improve from 0.17464\n",
      "350/350 [==============================] - 0s 1ms/step - loss: 0.4942 - accuracy: 0.8285 - val_loss: 0.1757 - val_accuracy: 0.9500\n",
      "Epoch 92/200\n",
      "320/350 [==========================>...] - ETA: 0s - loss: 0.5014 - accuracy: 0.8218\n",
      "Epoch 92: val_loss did not improve from 0.17464\n",
      "350/350 [==============================] - 0s 1ms/step - loss: 0.5063 - accuracy: 0.8207 - val_loss: 0.2022 - val_accuracy: 0.9411\n",
      "Epoch 93/200\n",
      "324/350 [==========================>...] - ETA: 0s - loss: 0.5100 - accuracy: 0.8214\n",
      "Epoch 93: val_loss did not improve from 0.17464\n",
      "350/350 [==============================] - 0s 1ms/step - loss: 0.5112 - accuracy: 0.8213 - val_loss: 0.1858 - val_accuracy: 0.9550\n",
      "Epoch 94/200\n",
      "315/350 [==========================>...] - ETA: 0s - loss: 0.5009 - accuracy: 0.8227\n",
      "Epoch 94: val_loss did not improve from 0.17464\n",
      "350/350 [==============================] - 0s 1ms/step - loss: 0.5063 - accuracy: 0.8198 - val_loss: 0.1978 - val_accuracy: 0.9432\n",
      "Epoch 95/200\n",
      "310/350 [=========================>....] - ETA: 0s - loss: 0.5108 - accuracy: 0.8200\n",
      "Epoch 95: val_loss did not improve from 0.17464\n",
      "350/350 [==============================] - 0s 1ms/step - loss: 0.5098 - accuracy: 0.8202 - val_loss: 0.1839 - val_accuracy: 0.9586\n",
      "Epoch 96/200\n",
      "319/350 [==========================>...] - ETA: 0s - loss: 0.5124 - accuracy: 0.8219\n",
      "Epoch 96: val_loss did not improve from 0.17464\n",
      "350/350 [==============================] - 0s 1ms/step - loss: 0.5178 - accuracy: 0.8196 - val_loss: 0.1901 - val_accuracy: 0.9482\n",
      "Epoch 97/200\n",
      "321/350 [==========================>...] - ETA: 0s - loss: 0.5147 - accuracy: 0.8209\n",
      "Epoch 97: val_loss improved from 0.17464 to 0.16918, saving model to saved_models\\audio_classification.hdf5\n",
      "350/350 [==============================] - 0s 1ms/step - loss: 0.5094 - accuracy: 0.8237 - val_loss: 0.1692 - val_accuracy: 0.9557\n",
      "Epoch 98/200\n",
      "317/350 [==========================>...] - ETA: 0s - loss: 0.5218 - accuracy: 0.8216\n",
      "Epoch 98: val_loss improved from 0.16918 to 0.15322, saving model to saved_models\\audio_classification.hdf5\n",
      "350/350 [==============================] - 0s 1ms/step - loss: 0.5193 - accuracy: 0.8227 - val_loss: 0.1532 - val_accuracy: 0.9546\n",
      "Epoch 99/200\n",
      "314/350 [=========================>....] - ETA: 0s - loss: 0.4887 - accuracy: 0.8303\n",
      "Epoch 99: val_loss did not improve from 0.15322\n",
      "350/350 [==============================] - 0s 1ms/step - loss: 0.4906 - accuracy: 0.8294 - val_loss: 0.1807 - val_accuracy: 0.9525\n",
      "Epoch 100/200\n",
      "320/350 [==========================>...] - ETA: 0s - loss: 0.5100 - accuracy: 0.8230\n",
      "Epoch 100: val_loss did not improve from 0.15322\n",
      "350/350 [==============================] - 0s 1ms/step - loss: 0.5093 - accuracy: 0.8228 - val_loss: 0.1850 - val_accuracy: 0.9468\n",
      "Epoch 101/200\n",
      "317/350 [==========================>...] - ETA: 0s - loss: 0.5012 - accuracy: 0.8264\n",
      "Epoch 101: val_loss did not improve from 0.15322\n",
      "350/350 [==============================] - 0s 1ms/step - loss: 0.5058 - accuracy: 0.8249 - val_loss: 0.1845 - val_accuracy: 0.9436\n",
      "Epoch 102/200\n",
      "320/350 [==========================>...] - ETA: 0s - loss: 0.5160 - accuracy: 0.8213\n",
      "Epoch 102: val_loss did not improve from 0.15322\n",
      "350/350 [==============================] - 0s 1ms/step - loss: 0.5121 - accuracy: 0.8222 - val_loss: 0.1557 - val_accuracy: 0.9568\n",
      "Epoch 103/200\n",
      "323/350 [==========================>...] - ETA: 0s - loss: 0.4979 - accuracy: 0.8235\n",
      "Epoch 103: val_loss did not improve from 0.15322\n",
      "350/350 [==============================] - 0s 1ms/step - loss: 0.4978 - accuracy: 0.8229 - val_loss: 0.1732 - val_accuracy: 0.9518\n",
      "Epoch 104/200\n",
      "349/350 [============================>.] - ETA: 0s - loss: 0.5090 - accuracy: 0.8191\n",
      "Epoch 104: val_loss did not improve from 0.15322\n",
      "350/350 [==============================] - 0s 1ms/step - loss: 0.5088 - accuracy: 0.8193 - val_loss: 0.1676 - val_accuracy: 0.9554\n",
      "Epoch 105/200\n",
      "318/350 [==========================>...] - ETA: 0s - loss: 0.5087 - accuracy: 0.8234\n",
      "Epoch 105: val_loss did not improve from 0.15322\n",
      "350/350 [==============================] - 0s 1ms/step - loss: 0.5136 - accuracy: 0.8223 - val_loss: 0.2224 - val_accuracy: 0.9279\n",
      "Epoch 106/200\n",
      "320/350 [==========================>...] - ETA: 0s - loss: 0.4819 - accuracy: 0.8306\n",
      "Epoch 106: val_loss improved from 0.15322 to 0.14256, saving model to saved_models\\audio_classification.hdf5\n",
      "350/350 [==============================] - 0s 1ms/step - loss: 0.4824 - accuracy: 0.8311 - val_loss: 0.1426 - val_accuracy: 0.9604\n",
      "Epoch 107/200\n",
      "302/350 [========================>.....] - ETA: 0s - loss: 0.4727 - accuracy: 0.8335\n",
      "Epoch 107: val_loss did not improve from 0.14256\n",
      "350/350 [==============================] - 0s 1ms/step - loss: 0.4866 - accuracy: 0.8298 - val_loss: 0.1975 - val_accuracy: 0.9496\n",
      "Epoch 108/200\n",
      "330/350 [===========================>..] - ETA: 0s - loss: 0.5075 - accuracy: 0.8181\n",
      "Epoch 108: val_loss did not improve from 0.14256\n",
      "350/350 [==============================] - 0s 1ms/step - loss: 0.5062 - accuracy: 0.8189 - val_loss: 0.1682 - val_accuracy: 0.9518\n",
      "Epoch 109/200\n",
      "333/350 [===========================>..] - ETA: 0s - loss: 0.5006 - accuracy: 0.8254\n",
      "Epoch 109: val_loss did not improve from 0.14256\n",
      "350/350 [==============================] - 0s 1ms/step - loss: 0.4982 - accuracy: 0.8269 - val_loss: 0.1669 - val_accuracy: 0.9568\n",
      "Epoch 110/200\n",
      "329/350 [===========================>..] - ETA: 0s - loss: 0.4982 - accuracy: 0.8281\n",
      "Epoch 110: val_loss did not improve from 0.14256\n",
      "350/350 [==============================] - 0s 1ms/step - loss: 0.4978 - accuracy: 0.8288 - val_loss: 0.1712 - val_accuracy: 0.9543\n",
      "Epoch 111/200\n",
      "322/350 [==========================>...] - ETA: 0s - loss: 0.4678 - accuracy: 0.8393\n",
      "Epoch 111: val_loss did not improve from 0.14256\n",
      "350/350 [==============================] - 0s 1ms/step - loss: 0.4712 - accuracy: 0.8381 - val_loss: 0.1650 - val_accuracy: 0.9543\n",
      "Epoch 112/200\n",
      "332/350 [===========================>..] - ETA: 0s - loss: 0.4634 - accuracy: 0.8392\n",
      "Epoch 112: val_loss did not improve from 0.14256\n",
      "350/350 [==============================] - 0s 1ms/step - loss: 0.4608 - accuracy: 0.8397 - val_loss: 0.1506 - val_accuracy: 0.9511\n",
      "Epoch 113/200\n",
      "312/350 [=========================>....] - ETA: 0s - loss: 0.4954 - accuracy: 0.8291\n",
      "Epoch 113: val_loss did not improve from 0.14256\n",
      "350/350 [==============================] - 0s 1ms/step - loss: 0.4976 - accuracy: 0.8288 - val_loss: 0.1701 - val_accuracy: 0.9561\n",
      "Epoch 114/200\n",
      "321/350 [==========================>...] - ETA: 0s - loss: 0.4930 - accuracy: 0.8301\n",
      "Epoch 114: val_loss did not improve from 0.14256\n",
      "350/350 [==============================] - 0s 1ms/step - loss: 0.4895 - accuracy: 0.8316 - val_loss: 0.1670 - val_accuracy: 0.9500\n",
      "Epoch 115/200\n",
      "316/350 [==========================>...] - ETA: 0s - loss: 0.4845 - accuracy: 0.8295\n",
      "Epoch 115: val_loss did not improve from 0.14256\n",
      "350/350 [==============================] - 0s 1ms/step - loss: 0.4840 - accuracy: 0.8306 - val_loss: 0.1595 - val_accuracy: 0.9607\n",
      "Epoch 116/200\n",
      "321/350 [==========================>...] - ETA: 0s - loss: 0.4967 - accuracy: 0.8229\n",
      "Epoch 116: val_loss did not improve from 0.14256\n",
      "350/350 [==============================] - 0s 1ms/step - loss: 0.4923 - accuracy: 0.8255 - val_loss: 0.1712 - val_accuracy: 0.9575\n",
      "Epoch 117/200\n",
      "318/350 [==========================>...] - ETA: 0s - loss: 0.4629 - accuracy: 0.8390\n",
      "Epoch 117: val_loss did not improve from 0.14256\n",
      "350/350 [==============================] - 0s 1ms/step - loss: 0.4644 - accuracy: 0.8392 - val_loss: 0.1567 - val_accuracy: 0.9629\n",
      "Epoch 118/200\n",
      "334/350 [===========================>..] - ETA: 0s - loss: 0.4826 - accuracy: 0.8375\n",
      "Epoch 118: val_loss did not improve from 0.14256\n",
      "350/350 [==============================] - 0s 1ms/step - loss: 0.4786 - accuracy: 0.8396 - val_loss: 0.1575 - val_accuracy: 0.9636\n",
      "Epoch 119/200\n",
      "319/350 [==========================>...] - ETA: 0s - loss: 0.4834 - accuracy: 0.8363\n",
      "Epoch 119: val_loss did not improve from 0.14256\n",
      "350/350 [==============================] - 0s 1ms/step - loss: 0.4803 - accuracy: 0.8372 - val_loss: 0.1645 - val_accuracy: 0.9525\n",
      "Epoch 120/200\n",
      "334/350 [===========================>..] - ETA: 0s - loss: 0.5055 - accuracy: 0.8269\n",
      "Epoch 120: val_loss did not improve from 0.14256\n",
      "350/350 [==============================] - 0s 1ms/step - loss: 0.5022 - accuracy: 0.8280 - val_loss: 0.1745 - val_accuracy: 0.9454\n",
      "Epoch 121/200\n",
      "329/350 [===========================>..] - ETA: 0s - loss: 0.4773 - accuracy: 0.8358\n",
      "Epoch 121: val_loss did not improve from 0.14256\n",
      "350/350 [==============================] - 0s 1ms/step - loss: 0.4839 - accuracy: 0.8344 - val_loss: 0.1732 - val_accuracy: 0.9529\n",
      "Epoch 122/200\n",
      "323/350 [==========================>...] - ETA: 0s - loss: 0.4939 - accuracy: 0.8306\n",
      "Epoch 122: val_loss did not improve from 0.14256\n",
      "350/350 [==============================] - 0s 1ms/step - loss: 0.4885 - accuracy: 0.8324 - val_loss: 0.1532 - val_accuracy: 0.9554\n",
      "Epoch 123/200\n",
      "325/350 [==========================>...] - ETA: 0s - loss: 0.4756 - accuracy: 0.8402\n",
      "Epoch 123: val_loss did not improve from 0.14256\n",
      "350/350 [==============================] - 0s 1ms/step - loss: 0.4761 - accuracy: 0.8393 - val_loss: 0.1770 - val_accuracy: 0.9500\n",
      "Epoch 124/200\n",
      "327/350 [===========================>..] - ETA: 0s - loss: 0.4810 - accuracy: 0.8367\n",
      "Epoch 124: val_loss did not improve from 0.14256\n",
      "350/350 [==============================] - 0s 1ms/step - loss: 0.4796 - accuracy: 0.8371 - val_loss: 0.1545 - val_accuracy: 0.9589\n",
      "Epoch 125/200\n",
      "323/350 [==========================>...] - ETA: 0s - loss: 0.4641 - accuracy: 0.8356\n",
      "Epoch 125: val_loss did not improve from 0.14256\n",
      "350/350 [==============================] - 0s 1ms/step - loss: 0.4665 - accuracy: 0.8360 - val_loss: 0.1504 - val_accuracy: 0.9646\n",
      "Epoch 126/200\n",
      "319/350 [==========================>...] - ETA: 0s - loss: 0.4878 - accuracy: 0.8331\n",
      "Epoch 126: val_loss did not improve from 0.14256\n",
      "350/350 [==============================] - 0s 1ms/step - loss: 0.4873 - accuracy: 0.8329 - val_loss: 0.1766 - val_accuracy: 0.9479\n",
      "Epoch 127/200\n",
      "312/350 [=========================>....] - ETA: 0s - loss: 0.4819 - accuracy: 0.8345\n",
      "Epoch 127: val_loss did not improve from 0.14256\n",
      "350/350 [==============================] - 0s 1ms/step - loss: 0.4800 - accuracy: 0.8354 - val_loss: 0.1613 - val_accuracy: 0.9514\n",
      "Epoch 128/200\n",
      "325/350 [==========================>...] - ETA: 0s - loss: 0.4832 - accuracy: 0.8338\n",
      "Epoch 128: val_loss did not improve from 0.14256\n",
      "350/350 [==============================] - 0s 1ms/step - loss: 0.4824 - accuracy: 0.8344 - val_loss: 0.1676 - val_accuracy: 0.9489\n",
      "Epoch 129/200\n",
      "326/350 [==========================>...] - ETA: 0s - loss: 0.4594 - accuracy: 0.8451\n",
      "Epoch 129: val_loss did not improve from 0.14256\n",
      "350/350 [==============================] - 0s 1ms/step - loss: 0.4566 - accuracy: 0.8455 - val_loss: 0.1484 - val_accuracy: 0.9607\n",
      "Epoch 130/200\n",
      "317/350 [==========================>...] - ETA: 0s - loss: 0.4589 - accuracy: 0.8445\n",
      "Epoch 130: val_loss did not improve from 0.14256\n",
      "350/350 [==============================] - 0s 1ms/step - loss: 0.4580 - accuracy: 0.8438 - val_loss: 0.1560 - val_accuracy: 0.9532\n",
      "Epoch 131/200\n",
      "315/350 [==========================>...] - ETA: 0s - loss: 0.4849 - accuracy: 0.8320\n",
      "Epoch 131: val_loss did not improve from 0.14256\n",
      "350/350 [==============================] - 0s 1ms/step - loss: 0.4837 - accuracy: 0.8326 - val_loss: 0.1831 - val_accuracy: 0.9493\n",
      "Epoch 132/200\n",
      "349/350 [============================>.] - ETA: 0s - loss: 0.4656 - accuracy: 0.8434\n",
      "Epoch 132: val_loss did not improve from 0.14256\n",
      "350/350 [==============================] - 0s 1ms/step - loss: 0.4664 - accuracy: 0.8432 - val_loss: 0.1628 - val_accuracy: 0.9518\n",
      "Epoch 133/200\n",
      "312/350 [=========================>....] - ETA: 0s - loss: 0.4757 - accuracy: 0.8424\n",
      "Epoch 133: val_loss did not improve from 0.14256\n",
      "350/350 [==============================] - 0s 1ms/step - loss: 0.4787 - accuracy: 0.8419 - val_loss: 0.1599 - val_accuracy: 0.9546\n",
      "Epoch 134/200\n",
      "297/350 [========================>.....] - ETA: 0s - loss: 0.4672 - accuracy: 0.8413\n",
      "Epoch 134: val_loss did not improve from 0.14256\n",
      "350/350 [==============================] - 0s 1ms/step - loss: 0.4729 - accuracy: 0.8418 - val_loss: 0.1475 - val_accuracy: 0.9621\n",
      "Epoch 135/200\n",
      "322/350 [==========================>...] - ETA: 0s - loss: 0.4854 - accuracy: 0.8378\n",
      "Epoch 135: val_loss did not improve from 0.14256\n",
      "350/350 [==============================] - 0s 1ms/step - loss: 0.4819 - accuracy: 0.8384 - val_loss: 0.1501 - val_accuracy: 0.9579\n",
      "Epoch 136/200\n",
      "325/350 [==========================>...] - ETA: 0s - loss: 0.4812 - accuracy: 0.8354\n",
      "Epoch 136: val_loss did not improve from 0.14256\n",
      "350/350 [==============================] - 0s 1ms/step - loss: 0.4798 - accuracy: 0.8358 - val_loss: 0.1458 - val_accuracy: 0.9639\n",
      "Epoch 137/200\n",
      "324/350 [==========================>...] - ETA: 0s - loss: 0.4722 - accuracy: 0.8416\n",
      "Epoch 137: val_loss did not improve from 0.14256\n",
      "350/350 [==============================] - 0s 1ms/step - loss: 0.4685 - accuracy: 0.8424 - val_loss: 0.1511 - val_accuracy: 0.9611\n",
      "Epoch 138/200\n",
      "317/350 [==========================>...] - ETA: 0s - loss: 0.4524 - accuracy: 0.8449\n",
      "Epoch 138: val_loss did not improve from 0.14256\n",
      "350/350 [==============================] - 0s 1ms/step - loss: 0.4491 - accuracy: 0.8455 - val_loss: 0.1488 - val_accuracy: 0.9529\n",
      "Epoch 139/200\n",
      "323/350 [==========================>...] - ETA: 0s - loss: 0.4658 - accuracy: 0.8426\n",
      "Epoch 139: val_loss did not improve from 0.14256\n",
      "350/350 [==============================] - 0s 1ms/step - loss: 0.4669 - accuracy: 0.8416 - val_loss: 0.1875 - val_accuracy: 0.9354\n",
      "Epoch 140/200\n",
      "328/350 [===========================>..] - ETA: 0s - loss: 0.4766 - accuracy: 0.8310\n",
      "Epoch 140: val_loss improved from 0.14256 to 0.14123, saving model to saved_models\\audio_classification.hdf5\n",
      "350/350 [==============================] - 0s 1ms/step - loss: 0.4756 - accuracy: 0.8313 - val_loss: 0.1412 - val_accuracy: 0.9661\n",
      "Epoch 141/200\n",
      "327/350 [===========================>..] - ETA: 0s - loss: 0.4617 - accuracy: 0.8443\n",
      "Epoch 141: val_loss did not improve from 0.14123\n",
      "350/350 [==============================] - 0s 1ms/step - loss: 0.4642 - accuracy: 0.8421 - val_loss: 0.1617 - val_accuracy: 0.9568\n",
      "Epoch 142/200\n",
      "332/350 [===========================>..] - ETA: 0s - loss: 0.4711 - accuracy: 0.8375\n",
      "Epoch 142: val_loss did not improve from 0.14123\n",
      "350/350 [==============================] - 0s 1ms/step - loss: 0.4706 - accuracy: 0.8374 - val_loss: 0.1504 - val_accuracy: 0.9561\n",
      "Epoch 143/200\n",
      "313/350 [=========================>....] - ETA: 0s - loss: 0.4694 - accuracy: 0.8427\n",
      "Epoch 143: val_loss did not improve from 0.14123\n",
      "350/350 [==============================] - 0s 1ms/step - loss: 0.4732 - accuracy: 0.8399 - val_loss: 0.1503 - val_accuracy: 0.9546\n",
      "Epoch 144/200\n",
      "327/350 [===========================>..] - ETA: 0s - loss: 0.4445 - accuracy: 0.8504\n",
      "Epoch 144: val_loss improved from 0.14123 to 0.12410, saving model to saved_models\\audio_classification.hdf5\n",
      "350/350 [==============================] - 0s 1ms/step - loss: 0.4409 - accuracy: 0.8513 - val_loss: 0.1241 - val_accuracy: 0.9611\n",
      "Epoch 145/200\n",
      "330/350 [===========================>..] - ETA: 0s - loss: 0.4430 - accuracy: 0.8452\n",
      "Epoch 145: val_loss did not improve from 0.12410\n",
      "350/350 [==============================] - 0s 1ms/step - loss: 0.4400 - accuracy: 0.8463 - val_loss: 0.1333 - val_accuracy: 0.9686\n",
      "Epoch 146/200\n",
      "324/350 [==========================>...] - ETA: 0s - loss: 0.4502 - accuracy: 0.8493\n",
      "Epoch 146: val_loss did not improve from 0.12410\n",
      "350/350 [==============================] - 0s 1ms/step - loss: 0.4453 - accuracy: 0.8500 - val_loss: 0.1420 - val_accuracy: 0.9625\n",
      "Epoch 147/200\n",
      "305/350 [=========================>....] - ETA: 0s - loss: 0.4651 - accuracy: 0.8399\n",
      "Epoch 147: val_loss did not improve from 0.12410\n",
      "350/350 [==============================] - 0s 1ms/step - loss: 0.4627 - accuracy: 0.8410 - val_loss: 0.1485 - val_accuracy: 0.9682\n",
      "Epoch 148/200\n",
      "323/350 [==========================>...] - ETA: 0s - loss: 0.4513 - accuracy: 0.8432\n",
      "Epoch 148: val_loss did not improve from 0.12410\n",
      "350/350 [==============================] - 0s 1ms/step - loss: 0.4504 - accuracy: 0.8429 - val_loss: 0.1351 - val_accuracy: 0.9643\n",
      "Epoch 149/200\n",
      "305/350 [=========================>....] - ETA: 0s - loss: 0.4859 - accuracy: 0.8290\n",
      "Epoch 149: val_loss did not improve from 0.12410\n",
      "350/350 [==============================] - 0s 1ms/step - loss: 0.4795 - accuracy: 0.8300 - val_loss: 0.1538 - val_accuracy: 0.9482\n",
      "Epoch 150/200\n",
      "317/350 [==========================>...] - ETA: 0s - loss: 0.4779 - accuracy: 0.8368\n",
      "Epoch 150: val_loss did not improve from 0.12410\n",
      "350/350 [==============================] - 0s 1ms/step - loss: 0.4834 - accuracy: 0.8355 - val_loss: 0.1612 - val_accuracy: 0.9639\n",
      "Epoch 151/200\n",
      "320/350 [==========================>...] - ETA: 0s - loss: 0.4705 - accuracy: 0.8384\n",
      "Epoch 151: val_loss did not improve from 0.12410\n",
      "350/350 [==============================] - 0s 1ms/step - loss: 0.4682 - accuracy: 0.8393 - val_loss: 0.1787 - val_accuracy: 0.9468\n",
      "Epoch 152/200\n",
      "324/350 [==========================>...] - ETA: 0s - loss: 0.4497 - accuracy: 0.8465\n",
      "Epoch 152: val_loss did not improve from 0.12410\n",
      "350/350 [==============================] - 0s 1ms/step - loss: 0.4480 - accuracy: 0.8468 - val_loss: 0.1349 - val_accuracy: 0.9636\n",
      "Epoch 153/200\n",
      "312/350 [=========================>....] - ETA: 0s - loss: 0.4352 - accuracy: 0.8491\n",
      "Epoch 153: val_loss did not improve from 0.12410\n",
      "350/350 [==============================] - 0s 1ms/step - loss: 0.4382 - accuracy: 0.8495 - val_loss: 0.1547 - val_accuracy: 0.9561\n",
      "Epoch 154/200\n",
      "318/350 [==========================>...] - ETA: 0s - loss: 0.4501 - accuracy: 0.8462\n",
      "Epoch 154: val_loss did not improve from 0.12410\n",
      "350/350 [==============================] - 0s 1ms/step - loss: 0.4504 - accuracy: 0.8455 - val_loss: 0.1366 - val_accuracy: 0.9589\n",
      "Epoch 155/200\n",
      "325/350 [==========================>...] - ETA: 0s - loss: 0.4448 - accuracy: 0.8479\n",
      "Epoch 155: val_loss did not improve from 0.12410\n",
      "350/350 [==============================] - 0s 1ms/step - loss: 0.4461 - accuracy: 0.8475 - val_loss: 0.1367 - val_accuracy: 0.9557\n",
      "Epoch 156/200\n",
      "325/350 [==========================>...] - ETA: 0s - loss: 0.4368 - accuracy: 0.8499\n",
      "Epoch 156: val_loss did not improve from 0.12410\n",
      "350/350 [==============================] - 0s 1ms/step - loss: 0.4380 - accuracy: 0.8487 - val_loss: 0.1311 - val_accuracy: 0.9614\n",
      "Epoch 157/200\n",
      "319/350 [==========================>...] - ETA: 0s - loss: 0.4510 - accuracy: 0.8426\n",
      "Epoch 157: val_loss did not improve from 0.12410\n",
      "350/350 [==============================] - 0s 1ms/step - loss: 0.4471 - accuracy: 0.8437 - val_loss: 0.1334 - val_accuracy: 0.9575\n",
      "Epoch 158/200\n",
      "314/350 [=========================>....] - ETA: 0s - loss: 0.4522 - accuracy: 0.8472\n",
      "Epoch 158: val_loss did not improve from 0.12410\n",
      "350/350 [==============================] - 0s 1ms/step - loss: 0.4525 - accuracy: 0.8471 - val_loss: 0.1501 - val_accuracy: 0.9579\n",
      "Epoch 159/200\n",
      "304/350 [=========================>....] - ETA: 0s - loss: 0.4763 - accuracy: 0.8392\n",
      "Epoch 159: val_loss did not improve from 0.12410\n",
      "350/350 [==============================] - 0s 1ms/step - loss: 0.4767 - accuracy: 0.8402 - val_loss: 0.1400 - val_accuracy: 0.9593\n",
      "Epoch 160/200\n",
      "307/350 [=========================>....] - ETA: 0s - loss: 0.4446 - accuracy: 0.8484\n",
      "Epoch 160: val_loss did not improve from 0.12410\n",
      "350/350 [==============================] - 0s 1ms/step - loss: 0.4496 - accuracy: 0.8479 - val_loss: 0.1423 - val_accuracy: 0.9543\n",
      "Epoch 161/200\n",
      "307/350 [=========================>....] - ETA: 0s - loss: 0.4514 - accuracy: 0.8487\n",
      "Epoch 161: val_loss did not improve from 0.12410\n",
      "350/350 [==============================] - 0s 1ms/step - loss: 0.4507 - accuracy: 0.8493 - val_loss: 0.1477 - val_accuracy: 0.9568\n",
      "Epoch 162/200\n",
      "309/350 [=========================>....] - ETA: 0s - loss: 0.4533 - accuracy: 0.8469\n",
      "Epoch 162: val_loss did not improve from 0.12410\n",
      "350/350 [==============================] - 0s 1ms/step - loss: 0.4498 - accuracy: 0.8492 - val_loss: 0.1399 - val_accuracy: 0.9571\n",
      "Epoch 163/200\n",
      "334/350 [===========================>..] - ETA: 0s - loss: 0.4691 - accuracy: 0.8421\n",
      "Epoch 163: val_loss did not improve from 0.12410\n",
      "350/350 [==============================] - 0s 1ms/step - loss: 0.4707 - accuracy: 0.8416 - val_loss: 0.1437 - val_accuracy: 0.9611\n",
      "Epoch 164/200\n",
      "323/350 [==========================>...] - ETA: 0s - loss: 0.4627 - accuracy: 0.8502\n",
      "Epoch 164: val_loss did not improve from 0.12410\n",
      "350/350 [==============================] - 0s 1ms/step - loss: 0.4646 - accuracy: 0.8488 - val_loss: 0.1289 - val_accuracy: 0.9696\n",
      "Epoch 165/200\n",
      "317/350 [==========================>...] - ETA: 0s - loss: 0.4518 - accuracy: 0.8453\n",
      "Epoch 165: val_loss did not improve from 0.12410\n",
      "350/350 [==============================] - 1s 2ms/step - loss: 0.4521 - accuracy: 0.8462 - val_loss: 0.1271 - val_accuracy: 0.9668\n",
      "Epoch 166/200\n",
      "322/350 [==========================>...] - ETA: 0s - loss: 0.4358 - accuracy: 0.8563\n",
      "Epoch 166: val_loss improved from 0.12410 to 0.11497, saving model to saved_models\\audio_classification.hdf5\n",
      "350/350 [==============================] - 0s 1ms/step - loss: 0.4353 - accuracy: 0.8558 - val_loss: 0.1150 - val_accuracy: 0.9661\n",
      "Epoch 167/200\n",
      "306/350 [=========================>....] - ETA: 0s - loss: 0.4462 - accuracy: 0.8548\n",
      "Epoch 167: val_loss did not improve from 0.11497\n",
      "350/350 [==============================] - 0s 1ms/step - loss: 0.4451 - accuracy: 0.8552 - val_loss: 0.1222 - val_accuracy: 0.9721\n",
      "Epoch 168/200\n",
      "301/350 [========================>.....] - ETA: 0s - loss: 0.4508 - accuracy: 0.8447\n",
      "Epoch 168: val_loss did not improve from 0.11497\n",
      "350/350 [==============================] - 0s 1ms/step - loss: 0.4477 - accuracy: 0.8454 - val_loss: 0.1514 - val_accuracy: 0.9575\n",
      "Epoch 169/200\n",
      "308/350 [=========================>....] - ETA: 0s - loss: 0.4427 - accuracy: 0.8477\n",
      "Epoch 169: val_loss did not improve from 0.11497\n",
      "350/350 [==============================] - 0s 1ms/step - loss: 0.4452 - accuracy: 0.8475 - val_loss: 0.1217 - val_accuracy: 0.9661\n",
      "Epoch 170/200\n",
      "322/350 [==========================>...] - ETA: 0s - loss: 0.4379 - accuracy: 0.8504\n",
      "Epoch 170: val_loss did not improve from 0.11497\n",
      "350/350 [==============================] - 0s 1ms/step - loss: 0.4405 - accuracy: 0.8504 - val_loss: 0.1519 - val_accuracy: 0.9589\n",
      "Epoch 171/200\n",
      "312/350 [=========================>....] - ETA: 0s - loss: 0.4423 - accuracy: 0.8464\n",
      "Epoch 171: val_loss did not improve from 0.11497\n",
      "350/350 [==============================] - 0s 1ms/step - loss: 0.4440 - accuracy: 0.8462 - val_loss: 0.1694 - val_accuracy: 0.9421\n",
      "Epoch 172/200\n",
      "315/350 [==========================>...] - ETA: 0s - loss: 0.4686 - accuracy: 0.8421\n",
      "Epoch 172: val_loss did not improve from 0.11497\n",
      "350/350 [==============================] - 0s 1ms/step - loss: 0.4684 - accuracy: 0.8413 - val_loss: 0.1305 - val_accuracy: 0.9657\n",
      "Epoch 173/200\n",
      "311/350 [=========================>....] - ETA: 0s - loss: 0.4697 - accuracy: 0.8406\n",
      "Epoch 173: val_loss did not improve from 0.11497\n",
      "350/350 [==============================] - 0s 1ms/step - loss: 0.4664 - accuracy: 0.8409 - val_loss: 0.1717 - val_accuracy: 0.9361\n",
      "Epoch 174/200\n",
      "316/350 [==========================>...] - ETA: 0s - loss: 0.4568 - accuracy: 0.8476\n",
      "Epoch 174: val_loss did not improve from 0.11497\n",
      "350/350 [==============================] - 0s 1ms/step - loss: 0.4575 - accuracy: 0.8468 - val_loss: 0.1432 - val_accuracy: 0.9621\n",
      "Epoch 175/200\n",
      "314/350 [=========================>....] - ETA: 0s - loss: 0.4539 - accuracy: 0.8476\n",
      "Epoch 175: val_loss did not improve from 0.11497\n",
      "350/350 [==============================] - 0s 1ms/step - loss: 0.4513 - accuracy: 0.8472 - val_loss: 0.1400 - val_accuracy: 0.9593\n",
      "Epoch 176/200\n",
      "323/350 [==========================>...] - ETA: 0s - loss: 0.4450 - accuracy: 0.8509\n",
      "Epoch 176: val_loss improved from 0.11497 to 0.10328, saving model to saved_models\\audio_classification.hdf5\n",
      "350/350 [==============================] - 0s 1ms/step - loss: 0.4419 - accuracy: 0.8517 - val_loss: 0.1033 - val_accuracy: 0.9789\n",
      "Epoch 177/200\n",
      "313/350 [=========================>....] - ETA: 0s - loss: 0.4267 - accuracy: 0.8543\n",
      "Epoch 177: val_loss did not improve from 0.10328\n",
      "350/350 [==============================] - 0s 1ms/step - loss: 0.4308 - accuracy: 0.8522 - val_loss: 0.1233 - val_accuracy: 0.9657\n",
      "Epoch 178/200\n",
      "319/350 [==========================>...] - ETA: 0s - loss: 0.4383 - accuracy: 0.8521\n",
      "Epoch 178: val_loss did not improve from 0.10328\n",
      "350/350 [==============================] - 0s 1ms/step - loss: 0.4409 - accuracy: 0.8517 - val_loss: 0.1720 - val_accuracy: 0.9421\n",
      "Epoch 179/200\n",
      "302/350 [========================>.....] - ETA: 0s - loss: 0.4508 - accuracy: 0.8475\n",
      "Epoch 179: val_loss did not improve from 0.10328\n",
      "350/350 [==============================] - 0s 1ms/step - loss: 0.4470 - accuracy: 0.8479 - val_loss: 0.1222 - val_accuracy: 0.9707\n",
      "Epoch 180/200\n",
      "310/350 [=========================>....] - ETA: 0s - loss: 0.4104 - accuracy: 0.8611\n",
      "Epoch 180: val_loss did not improve from 0.10328\n",
      "350/350 [==============================] - 0s 1ms/step - loss: 0.4131 - accuracy: 0.8621 - val_loss: 0.1191 - val_accuracy: 0.9661\n",
      "Epoch 181/200\n",
      "312/350 [=========================>....] - ETA: 0s - loss: 0.4179 - accuracy: 0.8568\n",
      "Epoch 181: val_loss did not improve from 0.10328\n",
      "350/350 [==============================] - 0s 1ms/step - loss: 0.4208 - accuracy: 0.8557 - val_loss: 0.1501 - val_accuracy: 0.9536\n",
      "Epoch 182/200\n",
      "317/350 [==========================>...] - ETA: 0s - loss: 0.4427 - accuracy: 0.8485\n",
      "Epoch 182: val_loss did not improve from 0.10328\n",
      "350/350 [==============================] - 0s 1ms/step - loss: 0.4437 - accuracy: 0.8484 - val_loss: 0.1548 - val_accuracy: 0.9532\n",
      "Epoch 183/200\n",
      "316/350 [==========================>...] - ETA: 0s - loss: 0.4778 - accuracy: 0.8407\n",
      "Epoch 183: val_loss did not improve from 0.10328\n",
      "350/350 [==============================] - 1s 2ms/step - loss: 0.4719 - accuracy: 0.8422 - val_loss: 0.1107 - val_accuracy: 0.9696\n",
      "Epoch 184/200\n",
      "318/350 [==========================>...] - ETA: 0s - loss: 0.4284 - accuracy: 0.8533\n",
      "Epoch 184: val_loss did not improve from 0.10328\n",
      "350/350 [==============================] - 1s 2ms/step - loss: 0.4295 - accuracy: 0.8531 - val_loss: 0.1164 - val_accuracy: 0.9729\n",
      "Epoch 185/200\n",
      "306/350 [=========================>....] - ETA: 0s - loss: 0.4715 - accuracy: 0.8424\n",
      "Epoch 185: val_loss did not improve from 0.10328\n",
      "350/350 [==============================] - 0s 1ms/step - loss: 0.4720 - accuracy: 0.8426 - val_loss: 0.1413 - val_accuracy: 0.9575\n",
      "Epoch 186/200\n",
      "319/350 [==========================>...] - ETA: 0s - loss: 0.4487 - accuracy: 0.8448\n",
      "Epoch 186: val_loss did not improve from 0.10328\n",
      "350/350 [==============================] - 0s 1ms/step - loss: 0.4491 - accuracy: 0.8444 - val_loss: 0.1614 - val_accuracy: 0.9521\n",
      "Epoch 187/200\n",
      "325/350 [==========================>...] - ETA: 0s - loss: 0.4281 - accuracy: 0.8548\n",
      "Epoch 187: val_loss did not improve from 0.10328\n",
      "350/350 [==============================] - 0s 1ms/step - loss: 0.4335 - accuracy: 0.8522 - val_loss: 0.1513 - val_accuracy: 0.9532\n",
      "Epoch 188/200\n",
      "306/350 [=========================>....] - ETA: 0s - loss: 0.4528 - accuracy: 0.8447\n",
      "Epoch 188: val_loss did not improve from 0.10328\n",
      "350/350 [==============================] - 0s 1ms/step - loss: 0.4512 - accuracy: 0.8447 - val_loss: 0.1436 - val_accuracy: 0.9529\n",
      "Epoch 189/200\n",
      "322/350 [==========================>...] - ETA: 0s - loss: 0.4298 - accuracy: 0.8561\n",
      "Epoch 189: val_loss did not improve from 0.10328\n",
      "350/350 [==============================] - 0s 1ms/step - loss: 0.4324 - accuracy: 0.8559 - val_loss: 0.1429 - val_accuracy: 0.9589\n",
      "Epoch 190/200\n",
      "311/350 [=========================>....] - ETA: 0s - loss: 0.4425 - accuracy: 0.8482\n",
      "Epoch 190: val_loss did not improve from 0.10328\n",
      "350/350 [==============================] - 0s 1ms/step - loss: 0.4476 - accuracy: 0.8471 - val_loss: 0.1367 - val_accuracy: 0.9639\n",
      "Epoch 191/200\n",
      "302/350 [========================>.....] - ETA: 0s - loss: 0.4218 - accuracy: 0.8571\n",
      "Epoch 191: val_loss did not improve from 0.10328\n",
      "350/350 [==============================] - 0s 1ms/step - loss: 0.4272 - accuracy: 0.8549 - val_loss: 0.1309 - val_accuracy: 0.9607\n",
      "Epoch 192/200\n",
      "312/350 [=========================>....] - ETA: 0s - loss: 0.4493 - accuracy: 0.8455\n",
      "Epoch 192: val_loss did not improve from 0.10328\n",
      "350/350 [==============================] - 0s 1ms/step - loss: 0.4501 - accuracy: 0.8453 - val_loss: 0.1449 - val_accuracy: 0.9671\n",
      "Epoch 193/200\n",
      "313/350 [=========================>....] - ETA: 0s - loss: 0.4497 - accuracy: 0.8489\n",
      "Epoch 193: val_loss did not improve from 0.10328\n",
      "350/350 [==============================] - 0s 1ms/step - loss: 0.4421 - accuracy: 0.8512 - val_loss: 0.1202 - val_accuracy: 0.9700\n",
      "Epoch 194/200\n",
      "318/350 [==========================>...] - ETA: 0s - loss: 0.4289 - accuracy: 0.8590\n",
      "Epoch 194: val_loss did not improve from 0.10328\n",
      "350/350 [==============================] - 0s 1ms/step - loss: 0.4289 - accuracy: 0.8579 - val_loss: 0.1260 - val_accuracy: 0.9668\n",
      "Epoch 195/200\n",
      "310/350 [=========================>....] - ETA: 0s - loss: 0.4273 - accuracy: 0.8566\n",
      "Epoch 195: val_loss did not improve from 0.10328\n",
      "350/350 [==============================] - 0s 1ms/step - loss: 0.4321 - accuracy: 0.8562 - val_loss: 0.1125 - val_accuracy: 0.9689\n",
      "Epoch 196/200\n",
      "317/350 [==========================>...] - ETA: 0s - loss: 0.4412 - accuracy: 0.8546\n",
      "Epoch 196: val_loss did not improve from 0.10328\n",
      "350/350 [==============================] - 0s 1ms/step - loss: 0.4371 - accuracy: 0.8556 - val_loss: 0.1216 - val_accuracy: 0.9654\n",
      "Epoch 197/200\n",
      "303/350 [========================>.....] - ETA: 0s - loss: 0.4179 - accuracy: 0.8563\n",
      "Epoch 197: val_loss did not improve from 0.10328\n",
      "350/350 [==============================] - 0s 1ms/step - loss: 0.4195 - accuracy: 0.8556 - val_loss: 0.1160 - val_accuracy: 0.9650\n",
      "Epoch 198/200\n",
      "311/350 [=========================>....] - ETA: 0s - loss: 0.4343 - accuracy: 0.8542\n",
      "Epoch 198: val_loss did not improve from 0.10328\n",
      "350/350 [==============================] - 0s 1ms/step - loss: 0.4339 - accuracy: 0.8529 - val_loss: 0.1194 - val_accuracy: 0.9614\n",
      "Epoch 199/200\n",
      "308/350 [=========================>....] - ETA: 0s - loss: 0.4638 - accuracy: 0.8450\n",
      "Epoch 199: val_loss did not improve from 0.10328\n",
      "350/350 [==============================] - 0s 1ms/step - loss: 0.4587 - accuracy: 0.8451 - val_loss: 0.1258 - val_accuracy: 0.9632\n",
      "Epoch 200/200\n",
      "334/350 [===========================>..] - ETA: 0s - loss: 0.4352 - accuracy: 0.8532\n",
      "Epoch 200: val_loss did not improve from 0.10328\n",
      "350/350 [==============================] - 1s 2ms/step - loss: 0.4330 - accuracy: 0.8545 - val_loss: 0.1171 - val_accuracy: 0.9714\n",
      "Training completed in time:  0:01:35.115836\n"
     ]
    }
   ],
   "source": [
    "from tensorflow.keras.callbacks import ModelCheckpoint\n",
    "from datetime import datetime \n",
    "\n",
    "num_epochs = 200\n",
    "num_batch_size = 32\n",
    "\n",
    "checkpointer = ModelCheckpoint(filepath='saved_models/audio_classification.hdf5', \n",
    "                               verbose=1, save_best_only=True)\n",
    "start = datetime.now()\n",
    "\n",
    "model.fit(X_train, y_train, batch_size=num_batch_size, epochs=num_epochs, validation_data=(X_test, y_test), callbacks=[checkpointer], verbose=1)\n",
    "\n",
    "\n",
    "duration = datetime.now() - start\n",
    "print(\"Training completed in time: \", duration)"
   ]
  },
  {
   "cell_type": "code",
   "execution_count": 76,
   "metadata": {},
   "outputs": [
    {
     "name": "stdout",
     "output_type": "stream",
     "text": [
      "0.9714285731315613\n"
     ]
    }
   ],
   "source": [
    "test_accuracy=model.evaluate(X_test,y_test,verbose=0)\n",
    "print(test_accuracy[1])"
   ]
  },
  {
   "cell_type": "code",
   "execution_count": 77,
   "metadata": {},
   "outputs": [
    {
     "data": {
      "text/plain": [
       "array([-29.299528  ,  53.877113  ,  -1.700412  ,  15.48996   ,\n",
       "         1.0905542 ,   0.53732526,   4.8971496 ,  -3.2253232 ,\n",
       "        -1.6960158 ,   2.227417  ,  -7.136839  ,  -5.9993052 ,\n",
       "        -2.9869275 ,  -3.800679  ,  -4.8925123 ,  -6.728301  ,\n",
       "        -0.42717907,  -4.024591  ,   4.3790174 ,   4.4642267 ,\n",
       "         5.897736  ,   3.7864716 ,   3.130733  ,  -1.1859137 ,\n",
       "         0.18943615,  -0.12405733,  -2.0700705 ,  -0.52642083,\n",
       "        -0.6365078 ,  -0.40736425,  -0.5204842 ,  -3.82161   ,\n",
       "        -5.7349544 ,  -0.7527156 ,   1.3588679 ,  -0.1029808 ,\n",
       "         0.96322334,   2.294131  ,   1.3843558 ,  -0.23530917],\n",
       "      dtype=float32)"
      ]
     },
     "execution_count": 77,
     "metadata": {},
     "output_type": "execute_result"
    }
   ],
   "source": [
    "X_test[1]"
   ]
  },
  {
   "cell_type": "code",
   "execution_count": 78,
   "metadata": {},
   "outputs": [
    {
     "name": "stdout",
     "output_type": "stream",
     "text": [
      "88/88 [==============================] - 0s 874us/step\n"
     ]
    }
   ],
   "source": [
    "y_pred=model.predict(X_test)"
   ]
  },
  {
   "cell_type": "code",
   "execution_count": 79,
   "metadata": {},
   "outputs": [
    {
     "data": {
      "text/plain": [
       "array([[0., 0., 0., ..., 0., 0., 0.],\n",
       "       [0., 0., 0., ..., 1., 0., 0.],\n",
       "       [0., 0., 0., ..., 0., 0., 1.],\n",
       "       ...,\n",
       "       [0., 0., 0., ..., 0., 0., 0.],\n",
       "       [1., 0., 0., ..., 0., 0., 0.],\n",
       "       [0., 0., 0., ..., 0., 1., 0.]], dtype=float32)"
      ]
     },
     "execution_count": 79,
     "metadata": {},
     "output_type": "execute_result"
    }
   ],
   "source": [
    "y_test"
   ]
  },
  {
   "cell_type": "code",
   "execution_count": 80,
   "metadata": {},
   "outputs": [
    {
     "data": {
      "text/plain": [
       "array([[8.20542567e-09, 5.58826496e-09, 1.89925436e-11, ...,\n",
       "        1.99013812e-05, 5.11290864e-07, 1.00142217e-09],\n",
       "       [0.00000000e+00, 2.01085406e-36, 0.00000000e+00, ...,\n",
       "        1.00000000e+00, 8.53795526e-34, 0.00000000e+00],\n",
       "       [8.10127147e-03, 8.29770215e-05, 3.49943846e-04, ...,\n",
       "        1.59408504e-04, 3.66786087e-04, 7.78482258e-01],\n",
       "       ...,\n",
       "       [3.15948360e-04, 6.66833520e-02, 2.10050002e-05, ...,\n",
       "        7.64956130e-05, 3.29777395e-04, 1.30446965e-03],\n",
       "       [8.73953462e-01, 2.61827576e-04, 5.92371352e-09, ...,\n",
       "        1.56360092e-09, 1.23802625e-01, 7.46280364e-07],\n",
       "       [4.99847329e-06, 5.57705389e-05, 1.47005572e-08, ...,\n",
       "        2.68736592e-04, 9.98748541e-01, 1.18146145e-05]], dtype=float32)"
      ]
     },
     "execution_count": 80,
     "metadata": {},
     "output_type": "execute_result"
    }
   ],
   "source": [
    "y_pred"
   ]
  },
  {
   "cell_type": "code",
   "execution_count": 94,
   "metadata": {},
   "outputs": [],
   "source": [
    "%matplotlib inline\n",
    "from sklearn.metrics import confusion_matrix\n",
    "import itertools\n",
    "import matplotlib.pyplot as plt"
   ]
  },
  {
   "cell_type": "code",
   "execution_count": 96,
   "metadata": {},
   "outputs": [],
   "source": [
    "round_off=np.round_(y_pred)"
   ]
  },
  {
   "cell_type": "code",
   "execution_count": 97,
   "metadata": {},
   "outputs": [
    {
     "data": {
      "text/plain": [
       "array([[0., 0., 0., ..., 0., 0., 0.],\n",
       "       [0., 0., 0., ..., 1., 0., 0.],\n",
       "       [0., 0., 0., ..., 0., 0., 1.],\n",
       "       ...,\n",
       "       [0., 0., 0., ..., 0., 0., 0.],\n",
       "       [1., 0., 0., ..., 0., 0., 0.],\n",
       "       [0., 0., 0., ..., 0., 1., 0.]], dtype=float32)"
      ]
     },
     "execution_count": 97,
     "metadata": {},
     "output_type": "execute_result"
    }
   ],
   "source": [
    "round_off"
   ]
  },
  {
   "cell_type": "code",
   "execution_count": 103,
   "metadata": {},
   "outputs": [
    {
     "name": "stdout",
     "output_type": "stream",
     "text": [
      "Confusion Matrix\n",
      "[[261   0   7   0   0   0   0   0   0   3]\n",
      " [  2 251   0   0   0   0   0   0   0   0]\n",
      " [ 11   0 262   0   0   0   0   0   0   0]\n",
      " [ 21   0   0 251   0   0   0   0   0   2]\n",
      " [  6   0   0   0 268   0   0   0   2   0]\n",
      " [ 13   0   0   0   0 282   0   0   1   0]\n",
      " [  3   0   0   0   0   0 272   0   0  16]\n",
      " [  0   0   3   0   0   0   0 294   0   0]\n",
      " [  9   0   0   0   0   0   0   0 287   0]\n",
      " [ 13   0   0   0   0   0   0   0   0 260]]\n"
     ]
    },
    {
     "data": {
      "image/png": "[encoded data removed]",
      "text/plain": [
       "<Figure size 360x360 with 2 Axes>"
      ]
     },
     "metadata": {
      "needs_background": "light"
     },
     "output_type": "display_data"
    }
   ],
   "source": [
    "import seaborn as sns\n",
    "from sklearn.metrics import plot_confusion_matrix\n",
    "cm=confusion_matrix(y_test.argmax(axis=1),round_off.argmax(axis=1))\n",
    "print(\"Confusion Matrix\")\n",
    "print(cm)\n",
    "\n",
    "plt.figure(figsize=(5,5))\n",
    "sns.heatmap(cm,annot=True,fmt=\"d\",cmap='Set3')\n",
    "plt.title(\"Confusion Matrix\")\n",
    "plt.ylabel(\"True class\")\n",
    "plt.xlabel(\"Predicted class\")\n",
    "plt.show()"
   ]
  },
  {
   "cell_type": "code",
   "execution_count": 93,
   "metadata": {},
   "outputs": [
    {
     "name": "stdout",
     "output_type": "stream",
     "text": [
      "[-52.421513    74.03342     12.680926    24.495552    21.09758\n",
      "   1.9039341    6.8095055    4.729847     8.409067     8.243973\n",
      "  -2.2749782   -1.1975456   -2.679471     0.26266813  -1.0600877\n",
      "  -0.83907866  -1.2490486   -2.3340123    3.812872     0.29528317\n",
      "  -5.2179255    0.09247766   4.797655     0.20297153  -2.725558\n",
      "  -2.2543724   -4.596182    -4.8950057    0.24640355  -3.3376021\n",
      "  -2.9537911    1.02235      3.3528435    0.21099363  -1.1686491\n",
      "  -1.0184283   -3.9671113   -4.8253393    0.9323926    3.2919037 ]\n",
      "[[-52.421513    74.03342     12.680926    24.495552    21.09758\n",
      "    1.9039341    6.8095055    4.729847     8.409067     8.243973\n",
      "   -2.2749782   -1.1975456   -2.679471     0.26266813  -1.0600877\n",
      "   -0.83907866  -1.2490486   -2.3340123    3.812872     0.29528317\n",
      "   -5.2179255    0.09247766   4.797655     0.20297153  -2.725558\n",
      "   -2.2543724   -4.596182    -4.8950057    0.24640355  -3.3376021\n",
      "   -2.9537911    1.02235      3.3528435    0.21099363  -1.1686491\n",
      "   -1.0184283   -3.9671113   -4.8253393    0.9323926    3.2919037 ]]\n",
      "(1, 40)\n",
      "1/1 [==============================] - 0s 16ms/step\n",
      "[[0. 0. 0. 0. 0. 0. 0. 1. 0. 0.]]\n",
      "pop\n"
     ]
    }
   ],
   "source": [
    "filename=\"C:\\\\Users\\\\Krishna\\\\Desktop\\\\Data\\\\genres_original\\\\pop\\\\pop.00008.wav\"\n",
    "audio, sample_rate = librosa.load(filename, res_type='kaiser_fast') \n",
    "mfccs_features = librosa.feature.mfcc(y=audio, sr=sample_rate, n_mfcc=40)\n",
    "mfccs_scaled_features = np.mean(mfccs_features.T,axis=0)\n",
    "\n",
    "print(mfccs_scaled_features)\n",
    "mfccs_scaled_features=mfccs_scaled_features.reshape(1,-1)\n",
    "print(mfccs_scaled_features)\n",
    "print(mfccs_scaled_features.shape)\n",
    "predicted_label=model.predict(mfccs_scaled_features)\n",
    "print(predicted_label)\n",
    "if predicted_label[0][0]==1.0:\n",
    "    print('blues')\n",
    "elif predicted_label[0][1]==1.0:\n",
    "    print('classical')\n",
    "elif predicted_label[0][2]==1.0:\n",
    "    print('country')\n",
    "elif predicted_label[0][3]==1.0:\n",
    "    print('disco')\n",
    "elif predicted_label[0][4]==1.0:\n",
    "    print('hiphop')\n",
    "elif predicted_label[0][5]==1.0:\n",
    "    print('jazz')\n",
    "elif predicted_label[0][6]==1.0:\n",
    "    print('metal')\n",
    "elif predicted_label[0][7]==1.0:\n",
    "    print('pop')\n",
    "elif predicted_label[0][8]==1.0:\n",
    "    print('reggae')\n",
    "elif predicted_label[0][9]==1.0:\n",
    "    print('rock')"
   ]
  },
  {
   "cell_type": "code",
   "execution_count": null,
   "metadata": {},
   "outputs": [],
   "source": []
  }
 ],
 "metadata": {
  "kernelspec": {
   "display_name": "Python 3",
   "language": "python",
   "name": "python3"
  },
  "language_info": {
   "codemirror_mode": {
    "name": "ipython",
    "version": 3
   },
   "file_extension": ".py",
   "mimetype": "text/x-python",
   "name": "python",
   "nbconvert_exporter": "python",
   "pygments_lexer": "ipython3",
   "version": "3.8.5"
  }
 },
 "nbformat": 4,
 "nbformat_minor": 5
}
